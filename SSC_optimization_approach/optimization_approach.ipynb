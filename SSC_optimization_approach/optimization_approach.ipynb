{
 "cells": [
  {
   "cell_type": "code",
   "execution_count": null,
   "id": "869760d3",
   "metadata": {},
   "outputs": [],
   "source": [
    "import pandas as pd\n",
    "from geopy.extra.rate_limiter import RateLimiter\n",
    "from geopy.geocoders import Nominatim\n",
    "import requests\n",
    "import plotly.express as px\n",
    "from sklearn.cluster import KMeans\n",
    "import numpy as np\n",
    "import matplotlib.pyplot as plt\n",
    "import networkx as nx\n",
    "from collections import Counter\n",
    "np.set_printoptions(suppress=True)\n",
    "from itertools import combinations\n",
    "pd.set_option('display.max_columns',None)\n",
    "pd.set_option('display.max_colwidth', None)\n",
    "from scipy.spatial.distance import squareform, pdist\n",
    "pd.options.mode.chained_assignment = None"
   ]
  },
  {
   "cell_type": "code",
   "execution_count": null,
   "id": "fdb64cfc",
   "metadata": {},
   "outputs": [],
   "source": [
    "df = pd.read_csv('../8Jul2020-14Jul2020.csv')\n",
    "cluster = df[['StartStation Name', 'StartStation lat', 'StartStation long']]\n",
    "cluster.drop_duplicates(keep='first', inplace=True)\n",
    "cluster.head()"
   ]
  },
  {
   "cell_type": "code",
   "execution_count": null,
   "id": "4428507a",
   "metadata": {},
   "outputs": [],
   "source": [
    "X = cluster[['StartStation lat', 'StartStation long']].values #select columns for G-clustering\n",
    "wcss = []\n",
    "for i in range(1, 11):\n",
    "    kmeans = KMeans(n_clusters = i, init = 'k-means++', random_state = 42)\n",
    "    kmeans.fit(X)\n",
    "    wcss.append(kmeans.inertia_)"
   ]
  },
  {
   "cell_type": "code",
   "execution_count": null,
   "id": "64b0b700",
   "metadata": {},
   "outputs": [],
   "source": [
    "n_clusters_ = 10\n",
    "kmeans = KMeans(n_clusters = n_clusters_, init ='k-means++')\n",
    "kmeans.fit(X) \n",
    "labels = kmeans.fit_predict(X)\n",
    "\n",
    "# Coordinates of cluster centers.\n",
    "centers = kmeans.cluster_centers_ "
   ]
  },
  {
   "cell_type": "code",
   "execution_count": null,
   "id": "55673240",
   "metadata": {},
   "outputs": [],
   "source": [
    "# map each station with its region\n",
    "cluster['clusters'] = labels\n",
    "cluster.index = cluster['StartStation Name']\n",
    "cluster_map = cluster['clusters'].to_dict()\n",
    "\n",
    "df['Cluster'] = df['StartStation Name'].map(cluster_map)\n",
    "df.head()"
   ]
  },
  {
   "cell_type": "code",
   "execution_count": null,
   "id": "8bcd6961",
   "metadata": {},
   "outputs": [],
   "source": [
    "temp1 = df.groupby(['StartStation Name'])[['Duration']].count()\n",
    "temp2 = df.groupby(['EndStation Name'])[['Duration']].count()"
   ]
  },
  {
   "cell_type": "code",
   "execution_count": null,
   "id": "774f7e04",
   "metadata": {
    "scrolled": true
   },
   "outputs": [],
   "source": [
    "temp1_map = temp1['Duration'].to_dict()\n",
    "temp2_map = temp2['Duration'].to_dict()\n",
    "\n",
    "df['StartStation Outgoing Bike'] = df['StartStation Name'].map(temp1_map)\n",
    "df['StartStation Incoming Bike'] = df['StartStation Name'].map(temp2_map)\n",
    "\n",
    "df['EndStation Outgoing Bike'] = df['EndStation Name'].map(temp1_map)\n",
    "df['EndStation Incoming Bike'] = df['EndStation Name'].map(temp2_map)\n",
    "\n",
    "df.head()"
   ]
  },
  {
   "cell_type": "code",
   "execution_count": null,
   "id": "b9786ca2",
   "metadata": {},
   "outputs": [],
   "source": [
    "#Inspired by: https://github.com/noernimat/k-means_clustering_model.git\n",
    "\n",
    "plt.rcParams['figure.figsize'] = [16,13]\n",
    "\n",
    "unique_labels = set(labels)\n",
    "colors = [plt.cm.Spectral(each)\n",
    "          for each in np.linspace(0, 1, len(unique_labels))]\n",
    "fig, ax = plt.subplots()\n",
    "for k, col in zip(unique_labels, colors):\n",
    "    if k == -1:\n",
    "        col = [0, 0, 0, 1]\n",
    "\n",
    "    class_member_mask = (labels == k)\n",
    "\n",
    "    xy = X[class_member_mask]\n",
    "    ax.plot(xy[:, 0], xy[:, 1], 'o', markerfacecolor=tuple(col),\n",
    "             markeredgecolor='k', markersize=5)\n",
    "    ax.plot(centers[k, 0], centers[k, 1], '^',markerfacecolor=tuple(col), markersize=18)\n",
    "    ax.text(centers[k, 0], centers[k, 1], k,fontsize=12) \n",
    "plt.show()"
   ]
  },
  {
   "cell_type": "code",
   "execution_count": null,
   "id": "f0d35412",
   "metadata": {},
   "outputs": [],
   "source": [
    "n_clusters_ = 3\n",
    "grouped = df.groupby(['Cluster'])\n",
    "\n",
    "li = []\n",
    "i = 0\n",
    "\n",
    "for name,group in grouped:\n",
    "    temp = grouped.get_group(name)    \n",
    "    X = temp[['StartStation Outgoing Bike', 'EndStation Incoming Bike']].values #select columns for T-clustering\n",
    "    kmeans = KMeans(n_clusters = n_clusters_, init ='k-means++')\n",
    "    kmeans.fit(X) # Compute k-means clustering.\n",
    "    labels = kmeans.fit_predict(X)\n",
    "    temp['Region'] = labels + i*3\n",
    "    i += 1\n",
    "    li.append(temp)"
   ]
  },
  {
   "cell_type": "code",
   "execution_count": null,
   "id": "4bd22992",
   "metadata": {},
   "outputs": [],
   "source": [
    "final_df = pd.concat(li)\n",
    "final_df.sort_index(inplace=True)\n",
    "final_df.head()"
   ]
  },
  {
   "cell_type": "code",
   "execution_count": null,
   "id": "df64d323",
   "metadata": {},
   "outputs": [],
   "source": [
    "fig = px.scatter(final_df, x=\"StartStation lat\", y=\"StartStation long\", color=\"Region\")\n",
    "fig.show()"
   ]
  },
  {
   "cell_type": "code",
   "execution_count": null,
   "id": "e3918f81",
   "metadata": {},
   "outputs": [],
   "source": [
    "temp_df = final_df[['StartStation Name', 'Cluster', 'StartStation lat', 'StartStation long']]\n",
    "temp_df.set_index(['StartStation Name'], inplace=True)\n",
    "\n",
    "var1 = temp_df['Cluster'].to_dict()\n",
    "var2 = temp_df['StartStation lat'].to_dict()\n",
    "var3 = temp_df['StartStation long'].to_dict()"
   ]
  },
  {
   "cell_type": "code",
   "execution_count": null,
   "id": "61718312",
   "metadata": {},
   "outputs": [],
   "source": [
    "temp = final_df.groupby(['Region', 'Cluster', 'StartStation Name', 'EndStation Name'])[['Duration']].count()\n",
    "temp.rename(columns={'Duration':'Count'}, inplace=True)\n",
    "temp.reset_index(drop=False, inplace=True)\n",
    "temp = temp[temp['Count'] >= 5] #Bike flow threshold (w)\n",
    "temp.head()"
   ]
  },
  {
   "cell_type": "code",
   "execution_count": null,
   "id": "c025eb3b",
   "metadata": {},
   "outputs": [],
   "source": [
    "temp['End Station Cluster'] = temp['EndStation Name'].map(var1)\n",
    "temp['StartStation lat'] = temp['EndStation Name'].map(var2)\n",
    "temp['StartStation long'] = temp['EndStation Name'].map(var3)\n",
    "\n",
    "temp = temp[temp['Cluster'] != temp['End Station Cluster']]\n",
    "temp.reset_index(drop=True, inplace = True)\n",
    "temp.head()"
   ]
  },
  {
   "cell_type": "code",
   "execution_count": null,
   "id": "91721bbb",
   "metadata": {},
   "outputs": [],
   "source": [
    "temp3 = df['StartStation Name'].values\n",
    "temp4 = df[['StartStation lat', 'StartStation long']].apply(tuple, axis=1).values\n",
    "\n",
    "pos = {A: B for A, B in zip(temp3, temp4)}"
   ]
  },
  {
   "cell_type": "code",
   "execution_count": null,
   "id": "20cc45bc",
   "metadata": {},
   "outputs": [],
   "source": [
    "X = np.array(temp[['StartStation Name', 'EndStation Name']])\n",
    "y = np.array(temp['Count'])\n",
    "\n",
    "temp1 = temp[['StartStation Name', 'EndStation Name']].apply(tuple, axis=1).values\n",
    "temp2 = temp['Count'].values\n",
    "\n",
    "edge_labels = {A: B for A, B in zip(temp1, temp2)}"
   ]
  },
  {
   "cell_type": "code",
   "execution_count": null,
   "id": "c3771174",
   "metadata": {},
   "outputs": [],
   "source": [
    "G = nx.Graph() #graphical model of London bike network\n",
    "G.add_edges_from(X)\n",
    "plt.figure(figsize =(35, 40))\n",
    "nx.draw_networkx(G, pos = pos, node_color ='green')\n",
    "nx.draw_networkx_edge_labels(G, pos = pos,\n",
    "                             edge_labels=edge_labels,\n",
    "                             font_color='red')\n",
    "\n",
    "plt.title(\"Bike Routes\")\n",
    "plt.show()"
   ]
  },
  {
   "cell_type": "code",
   "execution_count": null,
   "id": "c86afe7c",
   "metadata": {},
   "outputs": [],
   "source": [
    "test = []\n",
    "cliques = nx.find_cliques(G)\n",
    "for clique in cliques:\n",
    "    test += clique\n",
    "\n",
    "clique_dict = Counter(test)\n",
    "\n",
    "temp2 = pd.DataFrame.from_dict(clique_dict, orient='index').reset_index()\n",
    "temp2.rename(columns = {'index':'StartStation Name', 0: 'Clique'}, inplace = True)\n",
    "temp2.head()"
   ]
  },
  {
   "cell_type": "code",
   "execution_count": null,
   "id": "0c2aa98a",
   "metadata": {},
   "outputs": [],
   "source": [
    "clique_station_list = temp2['StartStation Name'].values\n",
    "non_clique_df = final_df[~final_df['StartStation Name'].isin(clique_station_list)]\n",
    "clique_df = final_df[final_df['StartStation Name'].isin(clique_station_list)]"
   ]
  },
  {
   "cell_type": "code",
   "execution_count": null,
   "id": "8d65277b",
   "metadata": {},
   "outputs": [],
   "source": [
    "final_df['clique_stations'] = np.where(~final_df['StartStation Name'].isin(clique_station_list), False, True)\n",
    "final_df.head()"
   ]
  },
  {
   "cell_type": "code",
   "execution_count": null,
   "id": "8eb0fab4",
   "metadata": {
    "scrolled": true
   },
   "outputs": [],
   "source": [
    "final_df[final_df['StartStation Name'].isin(clique_station_list)]"
   ]
  },
  {
   "cell_type": "code",
   "execution_count": null,
   "id": "5e5b0826",
   "metadata": {
    "scrolled": true
   },
   "outputs": [],
   "source": [
    "regions_dict = {}\n",
    "\n",
    "number_of_nonclique_region = sorted(non_clique_df['Region'].unique())\n",
    "\n",
    "for i in number_of_nonclique_region:\n",
    "    temp_df = non_clique_df[non_clique_df['Region'] == i]\n",
    "    temp = temp_df.groupby(['StartStation Name']).first()[['StartStation lat', 'StartStation long']]\n",
    "    eucd_distance = pd.DataFrame(squareform(pdist(temp.iloc[:, :])), columns=temp.index.unique(), index=temp.index.unique())    \n",
    "\n",
    "    X = np.array(np.meshgrid(eucd_distance.columns, eucd_distance.columns)).T.reshape(-1, 2)\n",
    "    y = eucd_distance.values.flatten()\n",
    "\n",
    "\n",
    "    temp1 = [tuple(i) for i in X]\n",
    "    temp2 = eucd_distance.values.flatten()\n",
    "\n",
    "    edge_labels = {A: B for A, B in zip(temp1, temp2)}\n",
    "    \n",
    "    temp3 = final_df['StartStation Name'].values\n",
    "    temp4 = final_df[['StartStation lat', 'StartStation long']].apply(tuple, axis=1).values\n",
    "\n",
    "    pos = {A: B for A, B in zip(temp3, temp4)}\n",
    "    \n",
    "    G = nx.Graph()\n",
    "    G.add_edges_from(X)\n",
    "    \n",
    "    mst = nx.minimum_spanning_tree(G)   \n",
    "    regions_dict['Region{}'.format(str(i+1))] =  mst.size(weight=\"weight\")"
   ]
  },
  {
   "cell_type": "code",
   "execution_count": null,
   "id": "7ed35649",
   "metadata": {},
   "outputs": [],
   "source": [
    "mst_non_clique_regions_df = pd.DataFrame(list(regions_dict.items()), columns=['Region', 'MST'])"
   ]
  },
  {
   "cell_type": "code",
   "execution_count": null,
   "id": "209128b8",
   "metadata": {
    "scrolled": false
   },
   "outputs": [],
   "source": [
    "#Calculate the MST weight for the entire bike network \n",
    "\n",
    "temp = final_df.groupby(['StartStation Name']).first()[['StartStation lat', 'StartStation long']]\n",
    "eucd_distance = pd.DataFrame(squareform(pdist(temp.iloc[:, :])), columns=temp.index.unique(), index=temp.index.unique())    \n",
    "\n",
    "X = np.array(np.meshgrid(eucd_distance.columns, eucd_distance.columns)).T.reshape(-1, 2)\n",
    "y = eucd_distance.values.flatten()\n",
    "\n",
    "\n",
    "temp1 = [tuple(i) for i in X]\n",
    "temp2 = eucd_distance.values.flatten()\n",
    "\n",
    "edge_labels = {A: B for A, B in zip(temp1, temp2)}\n",
    "\n",
    "temp3 = final_df['StartStation Name'].values\n",
    "temp4 = final_df[['StartStation lat', 'StartStation long']].apply(tuple, axis=1).values\n",
    "\n",
    "pos = {A: B for A, B in zip(temp3, temp4)}\n",
    "\n",
    "G = nx.Graph()\n",
    "G.add_edges_from(X)\n",
    "\n",
    "mst = nx.minimum_spanning_tree(G)\n",
    "    \n",
    "Entire_Bike_Network = mst.size(weight=\"weight\")\n",
    "print(mst.size(weight=\"weight\"))"
   ]
  },
  {
   "cell_type": "code",
   "execution_count": null,
   "id": "3b58be5e",
   "metadata": {},
   "outputs": [],
   "source": [
    "#Calculate the sum of MST weights for the non-self-sustainable bike stations\n",
    "\n",
    "temp = non_clique_df.groupby(['StartStation Name']).first()[['StartStation lat', 'StartStation long']]\n",
    "eucd_distance = pd.DataFrame(squareform(pdist(temp.iloc[:, :])), columns=temp.index.unique(), index=temp.index.unique())    \n",
    "\n",
    "X = np.array(np.meshgrid(eucd_distance.columns, eucd_distance.columns)).T.reshape(-1, 2)\n",
    "y = eucd_distance.values.flatten()\n",
    "\n",
    "\n",
    "temp1 = [tuple(i) for i in X]\n",
    "temp2 = eucd_distance.values.flatten()\n",
    "\n",
    "edge_labels = {A: B for A, B in zip(temp1, temp2)}\n",
    "\n",
    "temp3 = final_df['StartStation Name'].values\n",
    "temp4 = final_df[['StartStation lat', 'StartStation long']].apply(tuple, axis=1).values\n",
    "\n",
    "pos = {A: B for A, B in zip(temp3, temp4)}\n",
    "\n",
    "G = nx.Graph()\n",
    "G.add_edges_from(X)\n",
    "\n",
    "mst = nx.minimum_spanning_tree(G)    \n",
    "\n",
    "Non_Clique_Stations = mst.size(weight=\"weight\")\n",
    "Clique_Stations = Entire_Bike_Network - Non_Clique_Stations \n",
    "print(mst.size(weight=\"weight\"))"
   ]
  },
  {
   "cell_type": "code",
   "execution_count": null,
   "id": "748421b9",
   "metadata": {},
   "outputs": [],
   "source": [
    "#The evaluation for w=5. Other bar charts made in report where made by changing the bike flow threshold (w) and running again.\n",
    "data = {'Entire bike network': Entire_Bike_Network, 'Non-self-sustainable': Non_Clique_Stations}\n",
    "\n",
    "mst = ['Entire Bike Network', 'Clique/Non Clique Stations']\n",
    "values = [Entire_Bike_Network, Clique_Stations, Non_Clique_Stations]\n",
    "mst = list(data.keys())\n",
    "values = list(data.values())\n",
    "fig, ax = plt.subplots(figsize=(16, 9)) \n",
    "plt.bar(mst, values, color='red', width=0.4)\n",
    "\n",
    "plt.xlabel(\"Bike stations\", fontsize=30)\n",
    "plt.ylabel(\"Total distance for bike repositioning\", fontsize=30)\n",
    "plt.title(\"Bike repositioning distances with w = 5\", fontsize=34)\n",
    "plt.xticks(fontsize=29)\n",
    "plt.yticks(fontsize=29)\n",
    "plt.show()"
   ]
  },
  {
   "cell_type": "code",
   "execution_count": null,
   "id": "c7664398",
   "metadata": {},
   "outputs": [],
   "source": [
    "#The values in this dataset were gathered from subsequent runs of the code and changing the number of Regions formed.  \n",
    "#The data was gathered to speed up the processing time of my work - instead of having to calculate many Regions in every run.\n",
    "\n",
    "df = pd.read_csv('evaluation_dataset.csv') \n",
    "lines = df.plot.line(linewidth=5)\n",
    "plt.xticks(fontsize=20)\n",
    "plt.yticks(fontsize=20)\n",
    "plt.legend(fontsize=25)\n",
    "plt.show()"
   ]
  },
  {
   "cell_type": "code",
   "execution_count": null,
   "id": "b0efe302",
   "metadata": {},
   "outputs": [],
   "source": [
    "#The values in this dataset were gathered from subsequent runs of the code and changing the bike floew thresolhd w. \n",
    "#The data was gathered to speed up the processing time of my work - instead of having to calculate many Cliques in every run.\n",
    "\n",
    "df = pd.read_csv('connection_strength.csv')\n",
    "lines = df.plot.line(x='Bike flow', y='Number of cliques', linewidth=5)\n",
    "plt.xlabel('Bike flow', fontsize=30)\n",
    "plt.ylabel('Number of cliques', fontsize=30)\n",
    "plt.xticks(fontsize=20)\n",
    "plt.yticks(fontsize=20)\n",
    "plt.legend().remove()\n",
    "plt.show()"
   ]
  },
  {
   "cell_type": "code",
   "execution_count": null,
   "id": "683a8f55",
   "metadata": {
    "scrolled": true
   },
   "outputs": [],
   "source": [
    "color_discrete_map = {False: 'rgb(255,0,0)', True: 'rgb(0,255,0)'}\n",
    "fig = px.scatter_mapbox(final_df, lat=\"StartStation lat\", lon=\"StartStation long\", hover_name=\"StartStation Name\", hover_data=[\"StartStation Name\", \"StartStation nbBikes\"],\n",
    "                        color_discrete_map=color_discrete_map, zoom=3, height=300, color=\"clique_stations\")\n",
    "\n",
    "\n",
    "\n",
    "fig.update_layout(mapbox_style=\"open-street-map\")\n",
    "fig.update_layout(margin={\"r\":0,\"t\":0,\"l\":0,\"b\":0})\n",
    "fig.show()"
   ]
  },
  {
   "cell_type": "code",
   "execution_count": null,
   "id": "3a18996e",
   "metadata": {},
   "outputs": [],
   "source": [
    "#The data in X and Y were gathered from subsequent runs of the code by changing w in each run.\n",
    "x = [5, 10, 15, 20]\n",
    "y = [738, 391, 76, 27]\n",
    "\n",
    "fig, ax = plt.subplots()\n",
    "ax.plot(x, y, linewidth=7.5)\n",
    "ax.set_xlabel('Bike flow threshold (w)', fontsize=29)\n",
    "ax.set_ylabel('Number of self-sustaining bike stations', fontsize=29)\n",
    "ax.tick_params(axis='both', which='major', labelsize=27)\n",
    "ax.set_title('w effects on bike station self-sustainability', fontsize=30)\n",
    "plt.show()"
   ]
  },
  {
   "cell_type": "code",
   "execution_count": null,
   "id": "54b57718",
   "metadata": {},
   "outputs": [],
   "source": [
    "number_of_region = sorted(final_df['Region'].unique())\n",
    "\n",
    "for i in number_of_region:\n",
    "    temp = final_df[final_df['Region'] == i]\n",
    "    individual_region = temp.groupby(['StartStation Name'])[['StartStation nbBikes']].first()\n",
    "    mean_region = int(individual_region.mean().values[0])\n",
    "    sum_region = individual_region.sum().values[0]\n",
    "    number_of_station = len(individual_region)\n",
    "    extra_bikes = sum_region - mean_region*number_of_station\n",
    "\n",
    "    # Initially I assign mean to every station\n",
    "    y = np.array(individual_region['StartStation nbBikes'])\n",
    "    y[:] = mean_region\n",
    "    \n",
    "    # Incase I am left with n extra bikes then I allocate them to first n stations\n",
    "    y[:extra_bikes] = y[:extra_bikes] + 1\n",
    "    individual_region['StartStation nbBikes Relocated'] = y\n",
    "    print('Region: {}'.format(i))\n",
    "    print(individual_region)"
   ]
  }
 ],
 "metadata": {
  "kernelspec": {
   "display_name": "Python 3 (ipykernel)",
   "language": "python",
   "name": "python3"
  },
  "language_info": {
   "codemirror_mode": {
    "name": "ipython",
    "version": 3
   },
   "file_extension": ".py",
   "mimetype": "text/x-python",
   "name": "python",
   "nbconvert_exporter": "python",
   "pygments_lexer": "ipython3",
   "version": "3.9.7"
  }
 },
 "nbformat": 4,
 "nbformat_minor": 5
}
