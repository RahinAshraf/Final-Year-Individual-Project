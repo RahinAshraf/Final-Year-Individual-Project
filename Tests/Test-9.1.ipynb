{
 "cells": [
  {
   "cell_type": "code",
   "execution_count": 1,
   "id": "869760d3",
   "metadata": {},
   "outputs": [],
   "source": [
    "import pandas as pd\n",
    "from geopy.extra.rate_limiter import RateLimiter\n",
    "from geopy.geocoders import Nominatim\n",
    "import requests\n",
    "import plotly.express as px\n",
    "from sklearn.cluster import KMeans\n",
    "import numpy as np\n",
    "import matplotlib.pyplot as plt\n",
    "\n",
    "import plotly.graph_objects as go\n",
    "import networkx as nx\n",
    "\n",
    "from statistics import mean\n",
    "pd.set_option('display.max_columns',None)\n",
    "# pd.set_option('display.max_rows',None)\n",
    "pd.set_option('display.float_format', lambda x: f'%.{2}f' % x)\n",
    "pd.set_option('display.max_colwidth', None)\n",
    "\n",
    "\n",
    "import warnings\n",
    "warnings.filterwarnings('ignore')"
   ]
  },
  {
   "cell_type": "code",
   "execution_count": 2,
   "id": "fdb64cfc",
   "metadata": {},
   "outputs": [
    {
     "data": {
      "text/html": [
       "<div>\n",
       "<style scoped>\n",
       "    .dataframe tbody tr th:only-of-type {\n",
       "        vertical-align: middle;\n",
       "    }\n",
       "\n",
       "    .dataframe tbody tr th {\n",
       "        vertical-align: top;\n",
       "    }\n",
       "\n",
       "    .dataframe thead th {\n",
       "        text-align: right;\n",
       "    }\n",
       "</style>\n",
       "<table border=\"1\" class=\"dataframe\">\n",
       "  <thead>\n",
       "    <tr style=\"text-align: right;\">\n",
       "      <th></th>\n",
       "      <th>StartStation Name</th>\n",
       "      <th>StartStation lat</th>\n",
       "      <th>StartStation long</th>\n",
       "    </tr>\n",
       "  </thead>\n",
       "  <tbody>\n",
       "    <tr>\n",
       "      <th>0</th>\n",
       "      <td>Jubilee Plaza, Canary Wharf</td>\n",
       "      <td>51.50</td>\n",
       "      <td>-0.02</td>\n",
       "    </tr>\n",
       "    <tr>\n",
       "      <th>1</th>\n",
       "      <td>Ford Road, Old Ford</td>\n",
       "      <td>51.53</td>\n",
       "      <td>-0.03</td>\n",
       "    </tr>\n",
       "    <tr>\n",
       "      <th>2</th>\n",
       "      <td>Houndsditch, Aldgate</td>\n",
       "      <td>51.51</td>\n",
       "      <td>-0.08</td>\n",
       "    </tr>\n",
       "    <tr>\n",
       "      <th>4</th>\n",
       "      <td>Ossulston Street, Somers Town</td>\n",
       "      <td>51.53</td>\n",
       "      <td>-0.13</td>\n",
       "    </tr>\n",
       "    <tr>\n",
       "      <th>6</th>\n",
       "      <td>Endsleigh Gardens, Euston</td>\n",
       "      <td>51.53</td>\n",
       "      <td>-0.13</td>\n",
       "    </tr>\n",
       "  </tbody>\n",
       "</table>\n",
       "</div>"
      ],
      "text/plain": [
       "               StartStation Name  StartStation lat  StartStation long\n",
       "0    Jubilee Plaza, Canary Wharf             51.50              -0.02\n",
       "1            Ford Road, Old Ford             51.53              -0.03\n",
       "2           Houndsditch, Aldgate             51.51              -0.08\n",
       "4  Ossulston Street, Somers Town             51.53              -0.13\n",
       "6      Endsleigh Gardens, Euston             51.53              -0.13"
      ]
     },
     "execution_count": 2,
     "metadata": {},
     "output_type": "execute_result"
    }
   ],
   "source": [
    "df = pd.read_csv('../8Jul2020-14Jul2020.csv')\n",
    "df['Date'] = pd.to_datetime(df['Start Date'], dayfirst=True)\n",
    "df.sort_values(by='Date', inplace=True)\n",
    "df['Date'] = df['Date'].dt.date\n",
    "\n",
    "cluster = df[['StartStation Name', 'StartStation lat', 'StartStation long']]\n",
    "cluster.drop_duplicates(keep='first', inplace=True)\n",
    "cluster.head()"
   ]
  },
  {
   "cell_type": "code",
   "execution_count": 3,
   "id": "6c2b5d4a",
   "metadata": {},
   "outputs": [
    {
     "data": {
      "text/html": [
       "<div>\n",
       "<style scoped>\n",
       "    .dataframe tbody tr th:only-of-type {\n",
       "        vertical-align: middle;\n",
       "    }\n",
       "\n",
       "    .dataframe tbody tr th {\n",
       "        vertical-align: top;\n",
       "    }\n",
       "\n",
       "    .dataframe thead th {\n",
       "        text-align: right;\n",
       "    }\n",
       "</style>\n",
       "<table border=\"1\" class=\"dataframe\">\n",
       "  <thead>\n",
       "    <tr style=\"text-align: right;\">\n",
       "      <th></th>\n",
       "      <th>Rental Id</th>\n",
       "      <th>Duration</th>\n",
       "      <th>Bike Id</th>\n",
       "      <th>End Date</th>\n",
       "      <th>EndStation Id</th>\n",
       "      <th>EndStation Name</th>\n",
       "      <th>Start Date</th>\n",
       "      <th>StartStation Id</th>\n",
       "      <th>StartStation Name</th>\n",
       "      <th>EndStation lat</th>\n",
       "      <th>EndStation long</th>\n",
       "      <th>EndStation nbBikes</th>\n",
       "      <th>EndStation nbStandardBikes</th>\n",
       "      <th>EndStation nbEBikes</th>\n",
       "      <th>EndStation nbEmptyDocks</th>\n",
       "      <th>EndStation nbDocks</th>\n",
       "      <th>StartStation lat</th>\n",
       "      <th>StartStation long</th>\n",
       "      <th>StartStation nbBikes</th>\n",
       "      <th>StartStation nbStandardBikes</th>\n",
       "      <th>StartStation nbEBikes</th>\n",
       "      <th>StartStation nbEmptyDocks</th>\n",
       "      <th>StartStation nbDocks</th>\n",
       "      <th>Date</th>\n",
       "      <th>cluster</th>\n",
       "    </tr>\n",
       "  </thead>\n",
       "  <tbody>\n",
       "    <tr>\n",
       "      <th>0</th>\n",
       "      <td>99188805</td>\n",
       "      <td>780</td>\n",
       "      <td>13656</td>\n",
       "      <td>08/07/2020 00:13</td>\n",
       "      <td>476</td>\n",
       "      <td>Stebondale Street, Cubitt Town</td>\n",
       "      <td>08/07/2020 00:00</td>\n",
       "      <td>532</td>\n",
       "      <td>Jubilee Plaza, Canary Wharf</td>\n",
       "      <td>51.49</td>\n",
       "      <td>-0.01</td>\n",
       "      <td>26</td>\n",
       "      <td>24</td>\n",
       "      <td>2</td>\n",
       "      <td>3</td>\n",
       "      <td>29</td>\n",
       "      <td>51.50</td>\n",
       "      <td>-0.02</td>\n",
       "      <td>46</td>\n",
       "      <td>45</td>\n",
       "      <td>1</td>\n",
       "      <td>17</td>\n",
       "      <td>63</td>\n",
       "      <td>2020-07-08</td>\n",
       "      <td>2</td>\n",
       "    </tr>\n",
       "    <tr>\n",
       "      <th>1</th>\n",
       "      <td>99188806</td>\n",
       "      <td>180</td>\n",
       "      <td>4393</td>\n",
       "      <td>08/07/2020 00:03</td>\n",
       "      <td>531</td>\n",
       "      <td>Twig Folly Bridge, Mile End</td>\n",
       "      <td>08/07/2020 00:00</td>\n",
       "      <td>517</td>\n",
       "      <td>Ford Road, Old Ford</td>\n",
       "      <td>51.53</td>\n",
       "      <td>-0.04</td>\n",
       "      <td>6</td>\n",
       "      <td>6</td>\n",
       "      <td>0</td>\n",
       "      <td>15</td>\n",
       "      <td>21</td>\n",
       "      <td>51.53</td>\n",
       "      <td>-0.03</td>\n",
       "      <td>2</td>\n",
       "      <td>2</td>\n",
       "      <td>0</td>\n",
       "      <td>16</td>\n",
       "      <td>18</td>\n",
       "      <td>2020-07-08</td>\n",
       "      <td>2</td>\n",
       "    </tr>\n",
       "    <tr>\n",
       "      <th>2</th>\n",
       "      <td>99188809</td>\n",
       "      <td>960</td>\n",
       "      <td>8973</td>\n",
       "      <td>08/07/2020 00:17</td>\n",
       "      <td>508</td>\n",
       "      <td>Fournier Street, Whitechapel</td>\n",
       "      <td>08/07/2020 00:01</td>\n",
       "      <td>779</td>\n",
       "      <td>Houndsditch, Aldgate</td>\n",
       "      <td>51.52</td>\n",
       "      <td>-0.07</td>\n",
       "      <td>8</td>\n",
       "      <td>8</td>\n",
       "      <td>0</td>\n",
       "      <td>10</td>\n",
       "      <td>18</td>\n",
       "      <td>51.51</td>\n",
       "      <td>-0.08</td>\n",
       "      <td>3</td>\n",
       "      <td>3</td>\n",
       "      <td>0</td>\n",
       "      <td>25</td>\n",
       "      <td>28</td>\n",
       "      <td>2020-07-08</td>\n",
       "      <td>2</td>\n",
       "    </tr>\n",
       "    <tr>\n",
       "      <th>3</th>\n",
       "      <td>99188810</td>\n",
       "      <td>960</td>\n",
       "      <td>7141</td>\n",
       "      <td>08/07/2020 00:17</td>\n",
       "      <td>508</td>\n",
       "      <td>Fournier Street, Whitechapel</td>\n",
       "      <td>08/07/2020 00:01</td>\n",
       "      <td>779</td>\n",
       "      <td>Houndsditch, Aldgate</td>\n",
       "      <td>51.52</td>\n",
       "      <td>-0.07</td>\n",
       "      <td>8</td>\n",
       "      <td>8</td>\n",
       "      <td>0</td>\n",
       "      <td>10</td>\n",
       "      <td>18</td>\n",
       "      <td>51.51</td>\n",
       "      <td>-0.08</td>\n",
       "      <td>3</td>\n",
       "      <td>3</td>\n",
       "      <td>0</td>\n",
       "      <td>25</td>\n",
       "      <td>28</td>\n",
       "      <td>2020-07-08</td>\n",
       "      <td>2</td>\n",
       "    </tr>\n",
       "    <tr>\n",
       "      <th>4</th>\n",
       "      <td>99188807</td>\n",
       "      <td>600</td>\n",
       "      <td>15085</td>\n",
       "      <td>08/07/2020 00:11</td>\n",
       "      <td>201</td>\n",
       "      <td>Dorset Square, Marylebone</td>\n",
       "      <td>08/07/2020 00:01</td>\n",
       "      <td>797</td>\n",
       "      <td>Ossulston Street, Somers Town</td>\n",
       "      <td>51.52</td>\n",
       "      <td>-0.16</td>\n",
       "      <td>15</td>\n",
       "      <td>15</td>\n",
       "      <td>0</td>\n",
       "      <td>1</td>\n",
       "      <td>16</td>\n",
       "      <td>51.53</td>\n",
       "      <td>-0.13</td>\n",
       "      <td>28</td>\n",
       "      <td>27</td>\n",
       "      <td>1</td>\n",
       "      <td>2</td>\n",
       "      <td>30</td>\n",
       "      <td>2020-07-08</td>\n",
       "      <td>0</td>\n",
       "    </tr>\n",
       "  </tbody>\n",
       "</table>\n",
       "</div>"
      ],
      "text/plain": [
       "   Rental Id  Duration  Bike Id          End Date  EndStation Id  \\\n",
       "0   99188805       780    13656  08/07/2020 00:13            476   \n",
       "1   99188806       180     4393  08/07/2020 00:03            531   \n",
       "2   99188809       960     8973  08/07/2020 00:17            508   \n",
       "3   99188810       960     7141  08/07/2020 00:17            508   \n",
       "4   99188807       600    15085  08/07/2020 00:11            201   \n",
       "\n",
       "                  EndStation Name        Start Date  StartStation Id  \\\n",
       "0  Stebondale Street, Cubitt Town  08/07/2020 00:00              532   \n",
       "1     Twig Folly Bridge, Mile End  08/07/2020 00:00              517   \n",
       "2    Fournier Street, Whitechapel  08/07/2020 00:01              779   \n",
       "3    Fournier Street, Whitechapel  08/07/2020 00:01              779   \n",
       "4       Dorset Square, Marylebone  08/07/2020 00:01              797   \n",
       "\n",
       "               StartStation Name  EndStation lat  EndStation long  \\\n",
       "0    Jubilee Plaza, Canary Wharf           51.49            -0.01   \n",
       "1            Ford Road, Old Ford           51.53            -0.04   \n",
       "2           Houndsditch, Aldgate           51.52            -0.07   \n",
       "3           Houndsditch, Aldgate           51.52            -0.07   \n",
       "4  Ossulston Street, Somers Town           51.52            -0.16   \n",
       "\n",
       "   EndStation nbBikes  EndStation nbStandardBikes  EndStation nbEBikes  \\\n",
       "0                  26                          24                    2   \n",
       "1                   6                           6                    0   \n",
       "2                   8                           8                    0   \n",
       "3                   8                           8                    0   \n",
       "4                  15                          15                    0   \n",
       "\n",
       "   EndStation nbEmptyDocks  EndStation nbDocks  StartStation lat  \\\n",
       "0                        3                  29             51.50   \n",
       "1                       15                  21             51.53   \n",
       "2                       10                  18             51.51   \n",
       "3                       10                  18             51.51   \n",
       "4                        1                  16             51.53   \n",
       "\n",
       "   StartStation long  StartStation nbBikes  StartStation nbStandardBikes  \\\n",
       "0              -0.02                    46                            45   \n",
       "1              -0.03                     2                             2   \n",
       "2              -0.08                     3                             3   \n",
       "3              -0.08                     3                             3   \n",
       "4              -0.13                    28                            27   \n",
       "\n",
       "   StartStation nbEBikes  StartStation nbEmptyDocks  StartStation nbDocks  \\\n",
       "0                      1                         17                    63   \n",
       "1                      0                         16                    18   \n",
       "2                      0                         25                    28   \n",
       "3                      0                         25                    28   \n",
       "4                      1                          2                    30   \n",
       "\n",
       "         Date  cluster  \n",
       "0  2020-07-08        2  \n",
       "1  2020-07-08        2  \n",
       "2  2020-07-08        2  \n",
       "3  2020-07-08        2  \n",
       "4  2020-07-08        0  "
      ]
     },
     "execution_count": 3,
     "metadata": {},
     "output_type": "execute_result"
    }
   ],
   "source": [
    "X = cluster[['StartStation lat', 'StartStation long']].values\n",
    "\n",
    "n_clusters_ = 3\n",
    "kmeans = KMeans(n_clusters = n_clusters_, init ='k-means++')\n",
    "kmeans.fit(X) # Compute k-means clustering.\n",
    "labels = kmeans.fit_predict(X)\n",
    "\n",
    "# Coordinates of cluster centers.\n",
    "centers = kmeans.cluster_centers_ \n",
    "# print((centers))\n",
    "\n",
    "# map each station with its region\n",
    "cluster['clusters'] = labels\n",
    "cluster.index = cluster['StartStation Name']\n",
    "cluster_map = cluster['clusters'].to_dict()\n",
    "\n",
    "df['cluster'] = df['StartStation Name'].map(cluster_map)\n",
    "df.head()"
   ]
  },
  {
   "cell_type": "code",
   "execution_count": 4,
   "id": "feb6df68",
   "metadata": {
    "scrolled": true
   },
   "outputs": [
    {
     "name": "stdout",
     "output_type": "stream",
     "text": [
      "3\n",
      "6\n",
      "9\n",
      "12\n",
      "15\n",
      "18\n",
      "21\n",
      "24\n",
      "27\n",
      "30\n",
      "33\n",
      "36\n",
      "39\n",
      "42\n",
      "45\n",
      "48\n",
      "51\n",
      "54\n",
      "57\n",
      "60\n",
      "63\n",
      "66\n",
      "69\n",
      "72\n",
      "75\n",
      "78\n",
      "81\n",
      "84\n",
      "87\n",
      "90\n",
      "93\n",
      "96\n",
      "99\n",
      "102\n",
      "105\n",
      "108\n",
      "111\n",
      "114\n",
      "117\n",
      "120\n",
      "123\n",
      "126\n",
      "129\n",
      "132\n",
      "135\n",
      "138\n",
      "141\n",
      "144\n",
      "147\n",
      "150\n",
      "153\n",
      "156\n",
      "159\n",
      "162\n",
      "165\n",
      "168\n",
      "171\n",
      "174\n",
      "177\n",
      "180\n",
      "183\n",
      "186\n",
      "189\n",
      "192\n",
      "195\n",
      "198\n",
      "201\n",
      "204\n",
      "207\n",
      "210\n",
      "213\n",
      "216\n",
      "219\n",
      "222\n",
      "225\n",
      "228\n",
      "231\n",
      "234\n",
      "237\n",
      "240\n",
      "243\n",
      "246\n",
      "249\n",
      "252\n",
      "255\n",
      "258\n",
      "261\n",
      "264\n",
      "267\n",
      "270\n",
      "273\n",
      "276\n",
      "279\n",
      "282\n",
      "285\n",
      "288\n",
      "291\n",
      "294\n",
      "297\n",
      "300\n",
      "303\n",
      "306\n",
      "309\n",
      "312\n",
      "315\n",
      "318\n",
      "321\n",
      "324\n",
      "327\n",
      "330\n",
      "333\n",
      "336\n",
      "339\n",
      "342\n",
      "345\n",
      "348\n",
      "351\n",
      "354\n",
      "357\n",
      "360\n",
      "363\n",
      "366\n",
      "369\n",
      "372\n",
      "375\n",
      "378\n",
      "381\n",
      "384\n",
      "387\n",
      "390\n",
      "393\n",
      "396\n",
      "399\n",
      "402\n",
      "405\n",
      "408\n",
      "411\n",
      "414\n",
      "417\n",
      "420\n",
      "423\n",
      "426\n",
      "429\n",
      "432\n",
      "435\n",
      "438\n",
      "441\n",
      "444\n",
      "447\n",
      "450\n",
      "453\n",
      "456\n",
      "459\n",
      "462\n",
      "465\n",
      "468\n",
      "471\n",
      "474\n",
      "477\n",
      "480\n",
      "483\n",
      "486\n",
      "489\n",
      "492\n",
      "495\n",
      "498\n",
      "501\n",
      "504\n",
      "507\n",
      "510\n",
      "513\n",
      "516\n",
      "519\n",
      "522\n",
      "525\n",
      "528\n",
      "531\n",
      "534\n",
      "537\n",
      "540\n",
      "543\n",
      "546\n",
      "549\n",
      "552\n",
      "555\n",
      "558\n",
      "561\n",
      "564\n",
      "567\n",
      "570\n",
      "573\n",
      "576\n",
      "579\n",
      "582\n",
      "585\n",
      "588\n",
      "591\n",
      "594\n",
      "597\n",
      "600\n",
      "603\n",
      "606\n",
      "609\n",
      "612\n",
      "615\n",
      "618\n",
      "621\n",
      "624\n",
      "627\n",
      "630\n",
      "633\n",
      "636\n",
      "639\n",
      "642\n",
      "645\n",
      "648\n",
      "651\n",
      "654\n",
      "657\n",
      "660\n",
      "663\n",
      "666\n",
      "669\n",
      "672\n",
      "675\n",
      "678\n",
      "681\n",
      "684\n",
      "687\n",
      "690\n",
      "693\n",
      "696\n",
      "699\n",
      "702\n",
      "705\n",
      "708\n",
      "711\n",
      "714\n",
      "717\n",
      "720\n",
      "723\n",
      "726\n",
      "729\n",
      "732\n",
      "735\n",
      "738\n",
      "741\n",
      "744\n",
      "747\n"
     ]
    }
   ],
   "source": [
    "sum_duration = {}\n",
    "mean_duration = {}\n",
    "\n",
    "for n in range(3,750,3):\n",
    "    print(n)\n",
    "    n_clusters_ = n\n",
    "    kmeans = KMeans(n_clusters = n_clusters_, init ='k-means++')\n",
    "    kmeans.fit(X) # Compute k-means clustering.\n",
    "    labels = kmeans.fit_predict(X)\n",
    "\n",
    "    # Coordinates of cluster centers.\n",
    "    centers = kmeans.cluster_centers_ \n",
    "    # print((centers))\n",
    "\n",
    "    # map each station with its region\n",
    "    cluster['clusters'] = labels\n",
    "    cluster.index = cluster['StartStation Name']\n",
    "    cluster_map = cluster['clusters'].to_dict()\n",
    "\n",
    "    df['cluster'] = df['StartStation Name'].map(cluster_map)\n",
    "    \n",
    "    mean_cluster = df.groupby(['cluster'])['Duration'].mean().values\n",
    "    \n",
    "    flag = sum(mean_cluster)\n",
    "    sum_duration[n] = flag\n",
    "\n",
    "    flag = mean(mean_cluster)\n",
    "    mean_duration[n] = flag    \n",
    "    \n",
    "# df.head()"
   ]
  },
  {
   "cell_type": "code",
   "execution_count": 5,
   "id": "c1ea95eb",
   "metadata": {},
   "outputs": [
    {
     "data": {
      "text/html": [
       "<div>\n",
       "<style scoped>\n",
       "    .dataframe tbody tr th:only-of-type {\n",
       "        vertical-align: middle;\n",
       "    }\n",
       "\n",
       "    .dataframe tbody tr th {\n",
       "        vertical-align: top;\n",
       "    }\n",
       "\n",
       "    .dataframe thead th {\n",
       "        text-align: right;\n",
       "    }\n",
       "</style>\n",
       "<table border=\"1\" class=\"dataframe\">\n",
       "  <thead>\n",
       "    <tr style=\"text-align: right;\">\n",
       "      <th></th>\n",
       "      <th>cluster</th>\n",
       "      <th>mean</th>\n",
       "    </tr>\n",
       "  </thead>\n",
       "  <tbody>\n",
       "    <tr>\n",
       "      <th>0</th>\n",
       "      <td>3</td>\n",
       "      <td>1613.52</td>\n",
       "    </tr>\n",
       "    <tr>\n",
       "      <th>1</th>\n",
       "      <td>6</td>\n",
       "      <td>1623.78</td>\n",
       "    </tr>\n",
       "    <tr>\n",
       "      <th>2</th>\n",
       "      <td>9</td>\n",
       "      <td>1607.02</td>\n",
       "    </tr>\n",
       "    <tr>\n",
       "      <th>3</th>\n",
       "      <td>12</td>\n",
       "      <td>1618.33</td>\n",
       "    </tr>\n",
       "    <tr>\n",
       "      <th>4</th>\n",
       "      <td>15</td>\n",
       "      <td>1616.57</td>\n",
       "    </tr>\n",
       "  </tbody>\n",
       "</table>\n",
       "</div>"
      ],
      "text/plain": [
       "   cluster    mean\n",
       "0        3 1613.52\n",
       "1        6 1623.78\n",
       "2        9 1607.02\n",
       "3       12 1618.33\n",
       "4       15 1616.57"
      ]
     },
     "execution_count": 5,
     "metadata": {},
     "output_type": "execute_result"
    }
   ],
   "source": [
    "mean_cluster_df = pd.DataFrame(list(mean_duration.items()), columns=['cluster', 'mean'])\n",
    "mean_cluster_df.head()"
   ]
  },
  {
   "cell_type": "markdown",
   "id": "06c8274d",
   "metadata": {},
   "source": [
    "### Bar Chart"
   ]
  },
  {
   "cell_type": "code",
   "execution_count": 6,
   "id": "5cbae2b5",
   "metadata": {},
   "outputs": [
    {
     "data": {
      "application/vnd.plotly.v1+json": {
       "config": {
        "plotlyServerURL": "https://plot.ly"
       },
       "data": [
        {
         "alignmentgroup": "True",
         "hovertemplate": "cluster=%{x}<br>mean=%{y}<extra></extra>",
         "legendgroup": "",
         "marker": {
          "color": "#636efa",
          "pattern": {
           "shape": ""
          }
         },
         "name": "",
         "offsetgroup": "",
         "orientation": "v",
         "showlegend": false,
         "textposition": "auto",
         "type": "bar",
         "x": [
          3,
          6,
          9,
          12,
          15,
          18,
          21,
          24,
          27,
          30,
          33,
          36,
          39,
          42,
          45,
          48,
          51,
          54,
          57,
          60,
          63,
          66,
          69,
          72,
          75,
          78,
          81,
          84,
          87,
          90,
          93,
          96,
          99,
          102,
          105,
          108,
          111,
          114,
          117,
          120,
          123,
          126,
          129,
          132,
          135,
          138,
          141,
          144,
          147,
          150,
          153,
          156,
          159,
          162,
          165,
          168,
          171,
          174,
          177,
          180,
          183,
          186,
          189,
          192,
          195,
          198,
          201,
          204,
          207,
          210,
          213,
          216,
          219,
          222,
          225,
          228,
          231,
          234,
          237,
          240,
          243,
          246,
          249,
          252,
          255,
          258,
          261,
          264,
          267,
          270,
          273,
          276,
          279,
          282,
          285,
          288,
          291,
          294,
          297,
          300,
          303,
          306,
          309,
          312,
          315,
          318,
          321,
          324,
          327,
          330,
          333,
          336,
          339,
          342,
          345,
          348,
          351,
          354,
          357,
          360,
          363,
          366,
          369,
          372,
          375,
          378,
          381,
          384,
          387,
          390,
          393,
          396,
          399,
          402,
          405,
          408,
          411,
          414,
          417,
          420,
          423,
          426,
          429,
          432,
          435,
          438,
          441,
          444,
          447,
          450,
          453,
          456,
          459,
          462,
          465,
          468,
          471,
          474,
          477,
          480,
          483,
          486,
          489,
          492,
          495,
          498,
          501,
          504,
          507,
          510,
          513,
          516,
          519,
          522,
          525,
          528,
          531,
          534,
          537,
          540,
          543,
          546,
          549,
          552,
          555,
          558,
          561,
          564,
          567,
          570,
          573,
          576,
          579,
          582,
          585,
          588,
          591,
          594,
          597,
          600,
          603,
          606,
          609,
          612,
          615,
          618,
          621,
          624,
          627,
          630,
          633,
          636,
          639,
          642,
          645,
          648,
          651,
          654,
          657,
          660,
          663,
          666,
          669,
          672,
          675,
          678,
          681,
          684,
          687,
          690,
          693,
          696,
          699,
          702,
          705,
          708,
          711,
          714,
          717,
          720,
          723,
          726,
          729,
          732,
          735,
          738,
          741,
          744,
          747
         ],
         "xaxis": "x",
         "y": [
          1613.5160155516219,
          1623.7768584846083,
          1607.0168122738153,
          1618.3255205072319,
          1616.5678580037975,
          1618.8192091784194,
          1607.2139475342665,
          1623.462218404911,
          1626.353689166945,
          1613.8670768132924,
          1615.5561826704568,
          1610.2925138505898,
          1620.8461276178593,
          1610.2463462041255,
          1611.426513076649,
          1606.0625374857973,
          1613.2605559776011,
          1607.5067162604446,
          1620.9287656193071,
          1618.3054908149281,
          1609.8403080502264,
          1593.1569870203841,
          1611.559191565224,
          1619.2884364638492,
          1603.932200952545,
          1606.0669867695176,
          1607.7372854668079,
          1612.0557157030623,
          1599.0104041878758,
          1600.229811031214,
          1601.4656399597347,
          1601.9633094597361,
          1597.7727500636122,
          1598.5400675029653,
          1604.7041843334937,
          1591.6827783796255,
          1594.58936955989,
          1590.5419659956065,
          1593.7693857933425,
          1597.753576994556,
          1592.8854289150192,
          1602.314134870105,
          1595.0174543418416,
          1585.8275669589384,
          1585.2142282293685,
          1598.338641494659,
          1598.0953227355756,
          1599.3290695579983,
          1601.2452254623283,
          1600.4699795424604,
          1580.0378802656032,
          1584.1151450892119,
          1582.758587665436,
          1604.291610298916,
          1594.7431788883912,
          1587.6520788676046,
          1574.6980138640113,
          1581.68798671152,
          1581.909175452262,
          1578.7444902649054,
          1596.653152072822,
          1586.9503765050092,
          1590.300229314127,
          1579.5779545761732,
          1580.3298139676078,
          1582.7292091742509,
          1581.7692323143353,
          1581.4470645947179,
          1593.9678897424842,
          1592.242439450553,
          1592.4846805239738,
          1589.6198002490742,
          1576.798476225268,
          1583.8061897497885,
          1585.3426576998038,
          1591.3521117912894,
          1590.6182601121245,
          1588.2194027163202,
          1587.8413904525223,
          1583.6387823608206,
          1580.4413628442708,
          1575.9821409412584,
          1601.1414157854542,
          1586.6732588229188,
          1591.0191572862122,
          1591.0459461733751,
          1575.2561191603172,
          1591.3972656292128,
          1567.7972146192867,
          1580.7159308359444,
          1588.045973777511,
          1586.7696317725738,
          1574.438853040708,
          1581.9805898319673,
          1582.0501679556971,
          1590.5661348431013,
          1582.6355393282809,
          1587.970854060415,
          1583.7151329959222,
          1576.7135800464234,
          1578.1711904415108,
          1580.7225186712628,
          1581.826463888296,
          1569.3458029690817,
          1578.8925464648976,
          1577.6874581437526,
          1581.0122010037728,
          1573.0132319938587,
          1574.812534604648,
          1570.5011522714487,
          1570.3168337995905,
          1569.1745870704367,
          1581.7066615051633,
          1576.5573749044377,
          1582.1967085532979,
          1579.9441732735536,
          1565.957607461467,
          1573.12408365309,
          1571.8227131601525,
          1561.040881135335,
          1566.0251516304052,
          1560.9734633745843,
          1572.009228956741,
          1571.7940404783187,
          1564.82176983741,
          1565.2343551176425,
          1565.0558176793552,
          1569.42032413857,
          1568.5561271003648,
          1568.9162018184493,
          1563.4090486949913,
          1568.0459449668483,
          1569.9986120396263,
          1568.0226686460392,
          1570.4557866100968,
          1559.1005204293485,
          1565.8526301117697,
          1560.9239497754543,
          1564.1791565526198,
          1562.079816825117,
          1560.381954320727,
          1564.5678057066818,
          1563.5197023400872,
          1558.4118352488615,
          1560.761864036395,
          1560.0499220110128,
          1566.6475333906078,
          1556.6274476845322,
          1565.5808426303004,
          1561.510653206968,
          1559.6554012782049,
          1562.8152520728663,
          1558.7895161681977,
          1564.0624271975714,
          1560.109395171247,
          1553.4467632090466,
          1559.305515611244,
          1557.5945921111315,
          1563.0165012297582,
          1562.4600249016023,
          1562.0223617200556,
          1558.7355437844571,
          1554.8043871938455,
          1564.9888170574964,
          1556.254548150813,
          1558.1196759100153,
          1562.1666079429062,
          1553.803379356831,
          1551.576788313005,
          1556.3606327997607,
          1551.569411094507,
          1556.052998853766,
          1554.7969438220312,
          1552.8230352852345,
          1558.7652253511994,
          1558.192912896832,
          1549.9213179238875,
          1551.1526328045913,
          1557.3297015695118,
          1554.4375447060152,
          1555.6254420956818,
          1552.458458221568,
          1551.3730760244293,
          1548.8697758423787,
          1554.654024248093,
          1552.168459502604,
          1548.2462693612215,
          1556.2966778238008,
          1547.2103846059676,
          1551.377964209156,
          1550.6124796602394,
          1553.0708683377436,
          1550.4637934267994,
          1546.9779904704158,
          1545.5420714095262,
          1548.3516199040578,
          1548.3268463384911,
          1544.7462933879067,
          1549.7986156948418,
          1541.6788221597283,
          1543.5578313443586,
          1543.4510560719386,
          1541.7913470953072,
          1544.5796745233085,
          1542.6787744820676,
          1544.174893124448,
          1544.755198200129,
          1541.187489679672,
          1542.8449871735588,
          1543.8390795294952,
          1544.7508737044502,
          1544.7458257460885,
          1541.4976815595446,
          1542.0980898426856,
          1540.940610320373,
          1539.86102051957,
          1540.0190843942544,
          1541.2689106198025,
          1540.454762184017,
          1541.8257521674668,
          1538.5182367929326,
          1538.5955964128163,
          1540.7988134252612,
          1540.9397498665032,
          1540.8497436439995,
          1541.6662544087305,
          1540.0057847456685,
          1542.4680494732515,
          1540.3277380605782,
          1541.536465183132,
          1536.7998833290035,
          1541.2652103279286,
          1539.6006114316458,
          1538.2214307649588,
          1538.914154987943,
          1538.7404017826211,
          1539.0554013852616,
          1537.3004419739002,
          1537.2329281887012,
          1535.9167938860699,
          1535.1740395676943,
          1536.72894725034,
          1536.1813485665596,
          1535.0421098488846,
          1534.6869762906294,
          1535.5081303737215,
          1534.8649821657878,
          1535.6420844232234,
          1536.0885285043628
         ],
         "yaxis": "y"
        }
       ],
       "layout": {
        "barmode": "relative",
        "legend": {
         "tracegroupgap": 0
        },
        "margin": {
         "t": 60
        },
        "template": {
         "data": {
          "bar": [
           {
            "error_x": {
             "color": "#2a3f5f"
            },
            "error_y": {
             "color": "#2a3f5f"
            },
            "marker": {
             "line": {
              "color": "#E5ECF6",
              "width": 0.5
             },
             "pattern": {
              "fillmode": "overlay",
              "size": 10,
              "solidity": 0.2
             }
            },
            "type": "bar"
           }
          ],
          "barpolar": [
           {
            "marker": {
             "line": {
              "color": "#E5ECF6",
              "width": 0.5
             },
             "pattern": {
              "fillmode": "overlay",
              "size": 10,
              "solidity": 0.2
             }
            },
            "type": "barpolar"
           }
          ],
          "carpet": [
           {
            "aaxis": {
             "endlinecolor": "#2a3f5f",
             "gridcolor": "white",
             "linecolor": "white",
             "minorgridcolor": "white",
             "startlinecolor": "#2a3f5f"
            },
            "baxis": {
             "endlinecolor": "#2a3f5f",
             "gridcolor": "white",
             "linecolor": "white",
             "minorgridcolor": "white",
             "startlinecolor": "#2a3f5f"
            },
            "type": "carpet"
           }
          ],
          "choropleth": [
           {
            "colorbar": {
             "outlinewidth": 0,
             "ticks": ""
            },
            "type": "choropleth"
           }
          ],
          "contour": [
           {
            "colorbar": {
             "outlinewidth": 0,
             "ticks": ""
            },
            "colorscale": [
             [
              0,
              "#0d0887"
             ],
             [
              0.1111111111111111,
              "#46039f"
             ],
             [
              0.2222222222222222,
              "#7201a8"
             ],
             [
              0.3333333333333333,
              "#9c179e"
             ],
             [
              0.4444444444444444,
              "#bd3786"
             ],
             [
              0.5555555555555556,
              "#d8576b"
             ],
             [
              0.6666666666666666,
              "#ed7953"
             ],
             [
              0.7777777777777778,
              "#fb9f3a"
             ],
             [
              0.8888888888888888,
              "#fdca26"
             ],
             [
              1,
              "#f0f921"
             ]
            ],
            "type": "contour"
           }
          ],
          "contourcarpet": [
           {
            "colorbar": {
             "outlinewidth": 0,
             "ticks": ""
            },
            "type": "contourcarpet"
           }
          ],
          "heatmap": [
           {
            "colorbar": {
             "outlinewidth": 0,
             "ticks": ""
            },
            "colorscale": [
             [
              0,
              "#0d0887"
             ],
             [
              0.1111111111111111,
              "#46039f"
             ],
             [
              0.2222222222222222,
              "#7201a8"
             ],
             [
              0.3333333333333333,
              "#9c179e"
             ],
             [
              0.4444444444444444,
              "#bd3786"
             ],
             [
              0.5555555555555556,
              "#d8576b"
             ],
             [
              0.6666666666666666,
              "#ed7953"
             ],
             [
              0.7777777777777778,
              "#fb9f3a"
             ],
             [
              0.8888888888888888,
              "#fdca26"
             ],
             [
              1,
              "#f0f921"
             ]
            ],
            "type": "heatmap"
           }
          ],
          "heatmapgl": [
           {
            "colorbar": {
             "outlinewidth": 0,
             "ticks": ""
            },
            "colorscale": [
             [
              0,
              "#0d0887"
             ],
             [
              0.1111111111111111,
              "#46039f"
             ],
             [
              0.2222222222222222,
              "#7201a8"
             ],
             [
              0.3333333333333333,
              "#9c179e"
             ],
             [
              0.4444444444444444,
              "#bd3786"
             ],
             [
              0.5555555555555556,
              "#d8576b"
             ],
             [
              0.6666666666666666,
              "#ed7953"
             ],
             [
              0.7777777777777778,
              "#fb9f3a"
             ],
             [
              0.8888888888888888,
              "#fdca26"
             ],
             [
              1,
              "#f0f921"
             ]
            ],
            "type": "heatmapgl"
           }
          ],
          "histogram": [
           {
            "marker": {
             "pattern": {
              "fillmode": "overlay",
              "size": 10,
              "solidity": 0.2
             }
            },
            "type": "histogram"
           }
          ],
          "histogram2d": [
           {
            "colorbar": {
             "outlinewidth": 0,
             "ticks": ""
            },
            "colorscale": [
             [
              0,
              "#0d0887"
             ],
             [
              0.1111111111111111,
              "#46039f"
             ],
             [
              0.2222222222222222,
              "#7201a8"
             ],
             [
              0.3333333333333333,
              "#9c179e"
             ],
             [
              0.4444444444444444,
              "#bd3786"
             ],
             [
              0.5555555555555556,
              "#d8576b"
             ],
             [
              0.6666666666666666,
              "#ed7953"
             ],
             [
              0.7777777777777778,
              "#fb9f3a"
             ],
             [
              0.8888888888888888,
              "#fdca26"
             ],
             [
              1,
              "#f0f921"
             ]
            ],
            "type": "histogram2d"
           }
          ],
          "histogram2dcontour": [
           {
            "colorbar": {
             "outlinewidth": 0,
             "ticks": ""
            },
            "colorscale": [
             [
              0,
              "#0d0887"
             ],
             [
              0.1111111111111111,
              "#46039f"
             ],
             [
              0.2222222222222222,
              "#7201a8"
             ],
             [
              0.3333333333333333,
              "#9c179e"
             ],
             [
              0.4444444444444444,
              "#bd3786"
             ],
             [
              0.5555555555555556,
              "#d8576b"
             ],
             [
              0.6666666666666666,
              "#ed7953"
             ],
             [
              0.7777777777777778,
              "#fb9f3a"
             ],
             [
              0.8888888888888888,
              "#fdca26"
             ],
             [
              1,
              "#f0f921"
             ]
            ],
            "type": "histogram2dcontour"
           }
          ],
          "mesh3d": [
           {
            "colorbar": {
             "outlinewidth": 0,
             "ticks": ""
            },
            "type": "mesh3d"
           }
          ],
          "parcoords": [
           {
            "line": {
             "colorbar": {
              "outlinewidth": 0,
              "ticks": ""
             }
            },
            "type": "parcoords"
           }
          ],
          "pie": [
           {
            "automargin": true,
            "type": "pie"
           }
          ],
          "scatter": [
           {
            "fillpattern": {
             "fillmode": "overlay",
             "size": 10,
             "solidity": 0.2
            },
            "type": "scatter"
           }
          ],
          "scatter3d": [
           {
            "line": {
             "colorbar": {
              "outlinewidth": 0,
              "ticks": ""
             }
            },
            "marker": {
             "colorbar": {
              "outlinewidth": 0,
              "ticks": ""
             }
            },
            "type": "scatter3d"
           }
          ],
          "scattercarpet": [
           {
            "marker": {
             "colorbar": {
              "outlinewidth": 0,
              "ticks": ""
             }
            },
            "type": "scattercarpet"
           }
          ],
          "scattergeo": [
           {
            "marker": {
             "colorbar": {
              "outlinewidth": 0,
              "ticks": ""
             }
            },
            "type": "scattergeo"
           }
          ],
          "scattergl": [
           {
            "marker": {
             "colorbar": {
              "outlinewidth": 0,
              "ticks": ""
             }
            },
            "type": "scattergl"
           }
          ],
          "scattermapbox": [
           {
            "marker": {
             "colorbar": {
              "outlinewidth": 0,
              "ticks": ""
             }
            },
            "type": "scattermapbox"
           }
          ],
          "scatterpolar": [
           {
            "marker": {
             "colorbar": {
              "outlinewidth": 0,
              "ticks": ""
             }
            },
            "type": "scatterpolar"
           }
          ],
          "scatterpolargl": [
           {
            "marker": {
             "colorbar": {
              "outlinewidth": 0,
              "ticks": ""
             }
            },
            "type": "scatterpolargl"
           }
          ],
          "scatterternary": [
           {
            "marker": {
             "colorbar": {
              "outlinewidth": 0,
              "ticks": ""
             }
            },
            "type": "scatterternary"
           }
          ],
          "surface": [
           {
            "colorbar": {
             "outlinewidth": 0,
             "ticks": ""
            },
            "colorscale": [
             [
              0,
              "#0d0887"
             ],
             [
              0.1111111111111111,
              "#46039f"
             ],
             [
              0.2222222222222222,
              "#7201a8"
             ],
             [
              0.3333333333333333,
              "#9c179e"
             ],
             [
              0.4444444444444444,
              "#bd3786"
             ],
             [
              0.5555555555555556,
              "#d8576b"
             ],
             [
              0.6666666666666666,
              "#ed7953"
             ],
             [
              0.7777777777777778,
              "#fb9f3a"
             ],
             [
              0.8888888888888888,
              "#fdca26"
             ],
             [
              1,
              "#f0f921"
             ]
            ],
            "type": "surface"
           }
          ],
          "table": [
           {
            "cells": {
             "fill": {
              "color": "#EBF0F8"
             },
             "line": {
              "color": "white"
             }
            },
            "header": {
             "fill": {
              "color": "#C8D4E3"
             },
             "line": {
              "color": "white"
             }
            },
            "type": "table"
           }
          ]
         },
         "layout": {
          "annotationdefaults": {
           "arrowcolor": "#2a3f5f",
           "arrowhead": 0,
           "arrowwidth": 1
          },
          "autotypenumbers": "strict",
          "coloraxis": {
           "colorbar": {
            "outlinewidth": 0,
            "ticks": ""
           }
          },
          "colorscale": {
           "diverging": [
            [
             0,
             "#8e0152"
            ],
            [
             0.1,
             "#c51b7d"
            ],
            [
             0.2,
             "#de77ae"
            ],
            [
             0.3,
             "#f1b6da"
            ],
            [
             0.4,
             "#fde0ef"
            ],
            [
             0.5,
             "#f7f7f7"
            ],
            [
             0.6,
             "#e6f5d0"
            ],
            [
             0.7,
             "#b8e186"
            ],
            [
             0.8,
             "#7fbc41"
            ],
            [
             0.9,
             "#4d9221"
            ],
            [
             1,
             "#276419"
            ]
           ],
           "sequential": [
            [
             0,
             "#0d0887"
            ],
            [
             0.1111111111111111,
             "#46039f"
            ],
            [
             0.2222222222222222,
             "#7201a8"
            ],
            [
             0.3333333333333333,
             "#9c179e"
            ],
            [
             0.4444444444444444,
             "#bd3786"
            ],
            [
             0.5555555555555556,
             "#d8576b"
            ],
            [
             0.6666666666666666,
             "#ed7953"
            ],
            [
             0.7777777777777778,
             "#fb9f3a"
            ],
            [
             0.8888888888888888,
             "#fdca26"
            ],
            [
             1,
             "#f0f921"
            ]
           ],
           "sequentialminus": [
            [
             0,
             "#0d0887"
            ],
            [
             0.1111111111111111,
             "#46039f"
            ],
            [
             0.2222222222222222,
             "#7201a8"
            ],
            [
             0.3333333333333333,
             "#9c179e"
            ],
            [
             0.4444444444444444,
             "#bd3786"
            ],
            [
             0.5555555555555556,
             "#d8576b"
            ],
            [
             0.6666666666666666,
             "#ed7953"
            ],
            [
             0.7777777777777778,
             "#fb9f3a"
            ],
            [
             0.8888888888888888,
             "#fdca26"
            ],
            [
             1,
             "#f0f921"
            ]
           ]
          },
          "colorway": [
           "#636efa",
           "#EF553B",
           "#00cc96",
           "#ab63fa",
           "#FFA15A",
           "#19d3f3",
           "#FF6692",
           "#B6E880",
           "#FF97FF",
           "#FECB52"
          ],
          "font": {
           "color": "#2a3f5f"
          },
          "geo": {
           "bgcolor": "white",
           "lakecolor": "white",
           "landcolor": "#E5ECF6",
           "showlakes": true,
           "showland": true,
           "subunitcolor": "white"
          },
          "hoverlabel": {
           "align": "left"
          },
          "hovermode": "closest",
          "mapbox": {
           "style": "light"
          },
          "paper_bgcolor": "white",
          "plot_bgcolor": "#E5ECF6",
          "polar": {
           "angularaxis": {
            "gridcolor": "white",
            "linecolor": "white",
            "ticks": ""
           },
           "bgcolor": "#E5ECF6",
           "radialaxis": {
            "gridcolor": "white",
            "linecolor": "white",
            "ticks": ""
           }
          },
          "scene": {
           "xaxis": {
            "backgroundcolor": "#E5ECF6",
            "gridcolor": "white",
            "gridwidth": 2,
            "linecolor": "white",
            "showbackground": true,
            "ticks": "",
            "zerolinecolor": "white"
           },
           "yaxis": {
            "backgroundcolor": "#E5ECF6",
            "gridcolor": "white",
            "gridwidth": 2,
            "linecolor": "white",
            "showbackground": true,
            "ticks": "",
            "zerolinecolor": "white"
           },
           "zaxis": {
            "backgroundcolor": "#E5ECF6",
            "gridcolor": "white",
            "gridwidth": 2,
            "linecolor": "white",
            "showbackground": true,
            "ticks": "",
            "zerolinecolor": "white"
           }
          },
          "shapedefaults": {
           "line": {
            "color": "#2a3f5f"
           }
          },
          "ternary": {
           "aaxis": {
            "gridcolor": "white",
            "linecolor": "white",
            "ticks": ""
           },
           "baxis": {
            "gridcolor": "white",
            "linecolor": "white",
            "ticks": ""
           },
           "bgcolor": "#E5ECF6",
           "caxis": {
            "gridcolor": "white",
            "linecolor": "white",
            "ticks": ""
           }
          },
          "title": {
           "x": 0.05
          },
          "xaxis": {
           "automargin": true,
           "gridcolor": "white",
           "linecolor": "white",
           "ticks": "",
           "title": {
            "standoff": 15
           },
           "zerolinecolor": "white",
           "zerolinewidth": 2
          },
          "yaxis": {
           "automargin": true,
           "gridcolor": "white",
           "linecolor": "white",
           "ticks": "",
           "title": {
            "standoff": 15
           },
           "zerolinecolor": "white",
           "zerolinewidth": 2
          }
         }
        },
        "xaxis": {
         "anchor": "y",
         "domain": [
          0,
          1
         ],
         "title": {
          "text": "cluster"
         }
        },
        "yaxis": {
         "anchor": "x",
         "domain": [
          0,
          1
         ],
         "title": {
          "text": "mean"
         }
        }
       }
      }
     },
     "metadata": {},
     "output_type": "display_data"
    }
   ],
   "source": [
    "fig = px.bar(mean_cluster_df, x='cluster', y='mean')\n",
    "fig.show()"
   ]
  },
  {
   "cell_type": "markdown",
   "id": "62653b7b",
   "metadata": {},
   "source": [
    "### Line Chart "
   ]
  },
  {
   "cell_type": "code",
   "execution_count": 7,
   "id": "532433b2",
   "metadata": {},
   "outputs": [
    {
     "data": {
      "application/vnd.plotly.v1+json": {
       "config": {
        "plotlyServerURL": "https://plot.ly"
       },
       "data": [
        {
         "hovertemplate": "cluster=%{x}<br>mean=%{y}<extra></extra>",
         "legendgroup": "",
         "line": {
          "color": "#636efa",
          "dash": "solid"
         },
         "marker": {
          "symbol": "circle"
         },
         "mode": "lines",
         "name": "",
         "orientation": "v",
         "showlegend": false,
         "type": "scatter",
         "x": [
          3,
          6,
          9,
          12,
          15,
          18,
          21,
          24,
          27,
          30,
          33,
          36,
          39,
          42,
          45,
          48,
          51,
          54,
          57,
          60,
          63,
          66,
          69,
          72,
          75,
          78,
          81,
          84,
          87,
          90,
          93,
          96,
          99,
          102,
          105,
          108,
          111,
          114,
          117,
          120,
          123,
          126,
          129,
          132,
          135,
          138,
          141,
          144,
          147,
          150,
          153,
          156,
          159,
          162,
          165,
          168,
          171,
          174,
          177,
          180,
          183,
          186,
          189,
          192,
          195,
          198,
          201,
          204,
          207,
          210,
          213,
          216,
          219,
          222,
          225,
          228,
          231,
          234,
          237,
          240,
          243,
          246,
          249,
          252,
          255,
          258,
          261,
          264,
          267,
          270,
          273,
          276,
          279,
          282,
          285,
          288,
          291,
          294,
          297,
          300,
          303,
          306,
          309,
          312,
          315,
          318,
          321,
          324,
          327,
          330,
          333,
          336,
          339,
          342,
          345,
          348,
          351,
          354,
          357,
          360,
          363,
          366,
          369,
          372,
          375,
          378,
          381,
          384,
          387,
          390,
          393,
          396,
          399,
          402,
          405,
          408,
          411,
          414,
          417,
          420,
          423,
          426,
          429,
          432,
          435,
          438,
          441,
          444,
          447,
          450,
          453,
          456,
          459,
          462,
          465,
          468,
          471,
          474,
          477,
          480,
          483,
          486,
          489,
          492,
          495,
          498,
          501,
          504,
          507,
          510,
          513,
          516,
          519,
          522,
          525,
          528,
          531,
          534,
          537,
          540,
          543,
          546,
          549,
          552,
          555,
          558,
          561,
          564,
          567,
          570,
          573,
          576,
          579,
          582,
          585,
          588,
          591,
          594,
          597,
          600,
          603,
          606,
          609,
          612,
          615,
          618,
          621,
          624,
          627,
          630,
          633,
          636,
          639,
          642,
          645,
          648,
          651,
          654,
          657,
          660,
          663,
          666,
          669,
          672,
          675,
          678,
          681,
          684,
          687,
          690,
          693,
          696,
          699,
          702,
          705,
          708,
          711,
          714,
          717,
          720,
          723,
          726,
          729,
          732,
          735,
          738,
          741,
          744,
          747
         ],
         "xaxis": "x",
         "y": [
          1613.5160155516219,
          1623.7768584846083,
          1607.0168122738153,
          1618.3255205072319,
          1616.5678580037975,
          1618.8192091784194,
          1607.2139475342665,
          1623.462218404911,
          1626.353689166945,
          1613.8670768132924,
          1615.5561826704568,
          1610.2925138505898,
          1620.8461276178593,
          1610.2463462041255,
          1611.426513076649,
          1606.0625374857973,
          1613.2605559776011,
          1607.5067162604446,
          1620.9287656193071,
          1618.3054908149281,
          1609.8403080502264,
          1593.1569870203841,
          1611.559191565224,
          1619.2884364638492,
          1603.932200952545,
          1606.0669867695176,
          1607.7372854668079,
          1612.0557157030623,
          1599.0104041878758,
          1600.229811031214,
          1601.4656399597347,
          1601.9633094597361,
          1597.7727500636122,
          1598.5400675029653,
          1604.7041843334937,
          1591.6827783796255,
          1594.58936955989,
          1590.5419659956065,
          1593.7693857933425,
          1597.753576994556,
          1592.8854289150192,
          1602.314134870105,
          1595.0174543418416,
          1585.8275669589384,
          1585.2142282293685,
          1598.338641494659,
          1598.0953227355756,
          1599.3290695579983,
          1601.2452254623283,
          1600.4699795424604,
          1580.0378802656032,
          1584.1151450892119,
          1582.758587665436,
          1604.291610298916,
          1594.7431788883912,
          1587.6520788676046,
          1574.6980138640113,
          1581.68798671152,
          1581.909175452262,
          1578.7444902649054,
          1596.653152072822,
          1586.9503765050092,
          1590.300229314127,
          1579.5779545761732,
          1580.3298139676078,
          1582.7292091742509,
          1581.7692323143353,
          1581.4470645947179,
          1593.9678897424842,
          1592.242439450553,
          1592.4846805239738,
          1589.6198002490742,
          1576.798476225268,
          1583.8061897497885,
          1585.3426576998038,
          1591.3521117912894,
          1590.6182601121245,
          1588.2194027163202,
          1587.8413904525223,
          1583.6387823608206,
          1580.4413628442708,
          1575.9821409412584,
          1601.1414157854542,
          1586.6732588229188,
          1591.0191572862122,
          1591.0459461733751,
          1575.2561191603172,
          1591.3972656292128,
          1567.7972146192867,
          1580.7159308359444,
          1588.045973777511,
          1586.7696317725738,
          1574.438853040708,
          1581.9805898319673,
          1582.0501679556971,
          1590.5661348431013,
          1582.6355393282809,
          1587.970854060415,
          1583.7151329959222,
          1576.7135800464234,
          1578.1711904415108,
          1580.7225186712628,
          1581.826463888296,
          1569.3458029690817,
          1578.8925464648976,
          1577.6874581437526,
          1581.0122010037728,
          1573.0132319938587,
          1574.812534604648,
          1570.5011522714487,
          1570.3168337995905,
          1569.1745870704367,
          1581.7066615051633,
          1576.5573749044377,
          1582.1967085532979,
          1579.9441732735536,
          1565.957607461467,
          1573.12408365309,
          1571.8227131601525,
          1561.040881135335,
          1566.0251516304052,
          1560.9734633745843,
          1572.009228956741,
          1571.7940404783187,
          1564.82176983741,
          1565.2343551176425,
          1565.0558176793552,
          1569.42032413857,
          1568.5561271003648,
          1568.9162018184493,
          1563.4090486949913,
          1568.0459449668483,
          1569.9986120396263,
          1568.0226686460392,
          1570.4557866100968,
          1559.1005204293485,
          1565.8526301117697,
          1560.9239497754543,
          1564.1791565526198,
          1562.079816825117,
          1560.381954320727,
          1564.5678057066818,
          1563.5197023400872,
          1558.4118352488615,
          1560.761864036395,
          1560.0499220110128,
          1566.6475333906078,
          1556.6274476845322,
          1565.5808426303004,
          1561.510653206968,
          1559.6554012782049,
          1562.8152520728663,
          1558.7895161681977,
          1564.0624271975714,
          1560.109395171247,
          1553.4467632090466,
          1559.305515611244,
          1557.5945921111315,
          1563.0165012297582,
          1562.4600249016023,
          1562.0223617200556,
          1558.7355437844571,
          1554.8043871938455,
          1564.9888170574964,
          1556.254548150813,
          1558.1196759100153,
          1562.1666079429062,
          1553.803379356831,
          1551.576788313005,
          1556.3606327997607,
          1551.569411094507,
          1556.052998853766,
          1554.7969438220312,
          1552.8230352852345,
          1558.7652253511994,
          1558.192912896832,
          1549.9213179238875,
          1551.1526328045913,
          1557.3297015695118,
          1554.4375447060152,
          1555.6254420956818,
          1552.458458221568,
          1551.3730760244293,
          1548.8697758423787,
          1554.654024248093,
          1552.168459502604,
          1548.2462693612215,
          1556.2966778238008,
          1547.2103846059676,
          1551.377964209156,
          1550.6124796602394,
          1553.0708683377436,
          1550.4637934267994,
          1546.9779904704158,
          1545.5420714095262,
          1548.3516199040578,
          1548.3268463384911,
          1544.7462933879067,
          1549.7986156948418,
          1541.6788221597283,
          1543.5578313443586,
          1543.4510560719386,
          1541.7913470953072,
          1544.5796745233085,
          1542.6787744820676,
          1544.174893124448,
          1544.755198200129,
          1541.187489679672,
          1542.8449871735588,
          1543.8390795294952,
          1544.7508737044502,
          1544.7458257460885,
          1541.4976815595446,
          1542.0980898426856,
          1540.940610320373,
          1539.86102051957,
          1540.0190843942544,
          1541.2689106198025,
          1540.454762184017,
          1541.8257521674668,
          1538.5182367929326,
          1538.5955964128163,
          1540.7988134252612,
          1540.9397498665032,
          1540.8497436439995,
          1541.6662544087305,
          1540.0057847456685,
          1542.4680494732515,
          1540.3277380605782,
          1541.536465183132,
          1536.7998833290035,
          1541.2652103279286,
          1539.6006114316458,
          1538.2214307649588,
          1538.914154987943,
          1538.7404017826211,
          1539.0554013852616,
          1537.3004419739002,
          1537.2329281887012,
          1535.9167938860699,
          1535.1740395676943,
          1536.72894725034,
          1536.1813485665596,
          1535.0421098488846,
          1534.6869762906294,
          1535.5081303737215,
          1534.8649821657878,
          1535.6420844232234,
          1536.0885285043628
         ],
         "yaxis": "y"
        }
       ],
       "layout": {
        "legend": {
         "tracegroupgap": 0
        },
        "margin": {
         "t": 60
        },
        "template": {
         "data": {
          "bar": [
           {
            "error_x": {
             "color": "#2a3f5f"
            },
            "error_y": {
             "color": "#2a3f5f"
            },
            "marker": {
             "line": {
              "color": "#E5ECF6",
              "width": 0.5
             },
             "pattern": {
              "fillmode": "overlay",
              "size": 10,
              "solidity": 0.2
             }
            },
            "type": "bar"
           }
          ],
          "barpolar": [
           {
            "marker": {
             "line": {
              "color": "#E5ECF6",
              "width": 0.5
             },
             "pattern": {
              "fillmode": "overlay",
              "size": 10,
              "solidity": 0.2
             }
            },
            "type": "barpolar"
           }
          ],
          "carpet": [
           {
            "aaxis": {
             "endlinecolor": "#2a3f5f",
             "gridcolor": "white",
             "linecolor": "white",
             "minorgridcolor": "white",
             "startlinecolor": "#2a3f5f"
            },
            "baxis": {
             "endlinecolor": "#2a3f5f",
             "gridcolor": "white",
             "linecolor": "white",
             "minorgridcolor": "white",
             "startlinecolor": "#2a3f5f"
            },
            "type": "carpet"
           }
          ],
          "choropleth": [
           {
            "colorbar": {
             "outlinewidth": 0,
             "ticks": ""
            },
            "type": "choropleth"
           }
          ],
          "contour": [
           {
            "colorbar": {
             "outlinewidth": 0,
             "ticks": ""
            },
            "colorscale": [
             [
              0,
              "#0d0887"
             ],
             [
              0.1111111111111111,
              "#46039f"
             ],
             [
              0.2222222222222222,
              "#7201a8"
             ],
             [
              0.3333333333333333,
              "#9c179e"
             ],
             [
              0.4444444444444444,
              "#bd3786"
             ],
             [
              0.5555555555555556,
              "#d8576b"
             ],
             [
              0.6666666666666666,
              "#ed7953"
             ],
             [
              0.7777777777777778,
              "#fb9f3a"
             ],
             [
              0.8888888888888888,
              "#fdca26"
             ],
             [
              1,
              "#f0f921"
             ]
            ],
            "type": "contour"
           }
          ],
          "contourcarpet": [
           {
            "colorbar": {
             "outlinewidth": 0,
             "ticks": ""
            },
            "type": "contourcarpet"
           }
          ],
          "heatmap": [
           {
            "colorbar": {
             "outlinewidth": 0,
             "ticks": ""
            },
            "colorscale": [
             [
              0,
              "#0d0887"
             ],
             [
              0.1111111111111111,
              "#46039f"
             ],
             [
              0.2222222222222222,
              "#7201a8"
             ],
             [
              0.3333333333333333,
              "#9c179e"
             ],
             [
              0.4444444444444444,
              "#bd3786"
             ],
             [
              0.5555555555555556,
              "#d8576b"
             ],
             [
              0.6666666666666666,
              "#ed7953"
             ],
             [
              0.7777777777777778,
              "#fb9f3a"
             ],
             [
              0.8888888888888888,
              "#fdca26"
             ],
             [
              1,
              "#f0f921"
             ]
            ],
            "type": "heatmap"
           }
          ],
          "heatmapgl": [
           {
            "colorbar": {
             "outlinewidth": 0,
             "ticks": ""
            },
            "colorscale": [
             [
              0,
              "#0d0887"
             ],
             [
              0.1111111111111111,
              "#46039f"
             ],
             [
              0.2222222222222222,
              "#7201a8"
             ],
             [
              0.3333333333333333,
              "#9c179e"
             ],
             [
              0.4444444444444444,
              "#bd3786"
             ],
             [
              0.5555555555555556,
              "#d8576b"
             ],
             [
              0.6666666666666666,
              "#ed7953"
             ],
             [
              0.7777777777777778,
              "#fb9f3a"
             ],
             [
              0.8888888888888888,
              "#fdca26"
             ],
             [
              1,
              "#f0f921"
             ]
            ],
            "type": "heatmapgl"
           }
          ],
          "histogram": [
           {
            "marker": {
             "pattern": {
              "fillmode": "overlay",
              "size": 10,
              "solidity": 0.2
             }
            },
            "type": "histogram"
           }
          ],
          "histogram2d": [
           {
            "colorbar": {
             "outlinewidth": 0,
             "ticks": ""
            },
            "colorscale": [
             [
              0,
              "#0d0887"
             ],
             [
              0.1111111111111111,
              "#46039f"
             ],
             [
              0.2222222222222222,
              "#7201a8"
             ],
             [
              0.3333333333333333,
              "#9c179e"
             ],
             [
              0.4444444444444444,
              "#bd3786"
             ],
             [
              0.5555555555555556,
              "#d8576b"
             ],
             [
              0.6666666666666666,
              "#ed7953"
             ],
             [
              0.7777777777777778,
              "#fb9f3a"
             ],
             [
              0.8888888888888888,
              "#fdca26"
             ],
             [
              1,
              "#f0f921"
             ]
            ],
            "type": "histogram2d"
           }
          ],
          "histogram2dcontour": [
           {
            "colorbar": {
             "outlinewidth": 0,
             "ticks": ""
            },
            "colorscale": [
             [
              0,
              "#0d0887"
             ],
             [
              0.1111111111111111,
              "#46039f"
             ],
             [
              0.2222222222222222,
              "#7201a8"
             ],
             [
              0.3333333333333333,
              "#9c179e"
             ],
             [
              0.4444444444444444,
              "#bd3786"
             ],
             [
              0.5555555555555556,
              "#d8576b"
             ],
             [
              0.6666666666666666,
              "#ed7953"
             ],
             [
              0.7777777777777778,
              "#fb9f3a"
             ],
             [
              0.8888888888888888,
              "#fdca26"
             ],
             [
              1,
              "#f0f921"
             ]
            ],
            "type": "histogram2dcontour"
           }
          ],
          "mesh3d": [
           {
            "colorbar": {
             "outlinewidth": 0,
             "ticks": ""
            },
            "type": "mesh3d"
           }
          ],
          "parcoords": [
           {
            "line": {
             "colorbar": {
              "outlinewidth": 0,
              "ticks": ""
             }
            },
            "type": "parcoords"
           }
          ],
          "pie": [
           {
            "automargin": true,
            "type": "pie"
           }
          ],
          "scatter": [
           {
            "fillpattern": {
             "fillmode": "overlay",
             "size": 10,
             "solidity": 0.2
            },
            "type": "scatter"
           }
          ],
          "scatter3d": [
           {
            "line": {
             "colorbar": {
              "outlinewidth": 0,
              "ticks": ""
             }
            },
            "marker": {
             "colorbar": {
              "outlinewidth": 0,
              "ticks": ""
             }
            },
            "type": "scatter3d"
           }
          ],
          "scattercarpet": [
           {
            "marker": {
             "colorbar": {
              "outlinewidth": 0,
              "ticks": ""
             }
            },
            "type": "scattercarpet"
           }
          ],
          "scattergeo": [
           {
            "marker": {
             "colorbar": {
              "outlinewidth": 0,
              "ticks": ""
             }
            },
            "type": "scattergeo"
           }
          ],
          "scattergl": [
           {
            "marker": {
             "colorbar": {
              "outlinewidth": 0,
              "ticks": ""
             }
            },
            "type": "scattergl"
           }
          ],
          "scattermapbox": [
           {
            "marker": {
             "colorbar": {
              "outlinewidth": 0,
              "ticks": ""
             }
            },
            "type": "scattermapbox"
           }
          ],
          "scatterpolar": [
           {
            "marker": {
             "colorbar": {
              "outlinewidth": 0,
              "ticks": ""
             }
            },
            "type": "scatterpolar"
           }
          ],
          "scatterpolargl": [
           {
            "marker": {
             "colorbar": {
              "outlinewidth": 0,
              "ticks": ""
             }
            },
            "type": "scatterpolargl"
           }
          ],
          "scatterternary": [
           {
            "marker": {
             "colorbar": {
              "outlinewidth": 0,
              "ticks": ""
             }
            },
            "type": "scatterternary"
           }
          ],
          "surface": [
           {
            "colorbar": {
             "outlinewidth": 0,
             "ticks": ""
            },
            "colorscale": [
             [
              0,
              "#0d0887"
             ],
             [
              0.1111111111111111,
              "#46039f"
             ],
             [
              0.2222222222222222,
              "#7201a8"
             ],
             [
              0.3333333333333333,
              "#9c179e"
             ],
             [
              0.4444444444444444,
              "#bd3786"
             ],
             [
              0.5555555555555556,
              "#d8576b"
             ],
             [
              0.6666666666666666,
              "#ed7953"
             ],
             [
              0.7777777777777778,
              "#fb9f3a"
             ],
             [
              0.8888888888888888,
              "#fdca26"
             ],
             [
              1,
              "#f0f921"
             ]
            ],
            "type": "surface"
           }
          ],
          "table": [
           {
            "cells": {
             "fill": {
              "color": "#EBF0F8"
             },
             "line": {
              "color": "white"
             }
            },
            "header": {
             "fill": {
              "color": "#C8D4E3"
             },
             "line": {
              "color": "white"
             }
            },
            "type": "table"
           }
          ]
         },
         "layout": {
          "annotationdefaults": {
           "arrowcolor": "#2a3f5f",
           "arrowhead": 0,
           "arrowwidth": 1
          },
          "autotypenumbers": "strict",
          "coloraxis": {
           "colorbar": {
            "outlinewidth": 0,
            "ticks": ""
           }
          },
          "colorscale": {
           "diverging": [
            [
             0,
             "#8e0152"
            ],
            [
             0.1,
             "#c51b7d"
            ],
            [
             0.2,
             "#de77ae"
            ],
            [
             0.3,
             "#f1b6da"
            ],
            [
             0.4,
             "#fde0ef"
            ],
            [
             0.5,
             "#f7f7f7"
            ],
            [
             0.6,
             "#e6f5d0"
            ],
            [
             0.7,
             "#b8e186"
            ],
            [
             0.8,
             "#7fbc41"
            ],
            [
             0.9,
             "#4d9221"
            ],
            [
             1,
             "#276419"
            ]
           ],
           "sequential": [
            [
             0,
             "#0d0887"
            ],
            [
             0.1111111111111111,
             "#46039f"
            ],
            [
             0.2222222222222222,
             "#7201a8"
            ],
            [
             0.3333333333333333,
             "#9c179e"
            ],
            [
             0.4444444444444444,
             "#bd3786"
            ],
            [
             0.5555555555555556,
             "#d8576b"
            ],
            [
             0.6666666666666666,
             "#ed7953"
            ],
            [
             0.7777777777777778,
             "#fb9f3a"
            ],
            [
             0.8888888888888888,
             "#fdca26"
            ],
            [
             1,
             "#f0f921"
            ]
           ],
           "sequentialminus": [
            [
             0,
             "#0d0887"
            ],
            [
             0.1111111111111111,
             "#46039f"
            ],
            [
             0.2222222222222222,
             "#7201a8"
            ],
            [
             0.3333333333333333,
             "#9c179e"
            ],
            [
             0.4444444444444444,
             "#bd3786"
            ],
            [
             0.5555555555555556,
             "#d8576b"
            ],
            [
             0.6666666666666666,
             "#ed7953"
            ],
            [
             0.7777777777777778,
             "#fb9f3a"
            ],
            [
             0.8888888888888888,
             "#fdca26"
            ],
            [
             1,
             "#f0f921"
            ]
           ]
          },
          "colorway": [
           "#636efa",
           "#EF553B",
           "#00cc96",
           "#ab63fa",
           "#FFA15A",
           "#19d3f3",
           "#FF6692",
           "#B6E880",
           "#FF97FF",
           "#FECB52"
          ],
          "font": {
           "color": "#2a3f5f"
          },
          "geo": {
           "bgcolor": "white",
           "lakecolor": "white",
           "landcolor": "#E5ECF6",
           "showlakes": true,
           "showland": true,
           "subunitcolor": "white"
          },
          "hoverlabel": {
           "align": "left"
          },
          "hovermode": "closest",
          "mapbox": {
           "style": "light"
          },
          "paper_bgcolor": "white",
          "plot_bgcolor": "#E5ECF6",
          "polar": {
           "angularaxis": {
            "gridcolor": "white",
            "linecolor": "white",
            "ticks": ""
           },
           "bgcolor": "#E5ECF6",
           "radialaxis": {
            "gridcolor": "white",
            "linecolor": "white",
            "ticks": ""
           }
          },
          "scene": {
           "xaxis": {
            "backgroundcolor": "#E5ECF6",
            "gridcolor": "white",
            "gridwidth": 2,
            "linecolor": "white",
            "showbackground": true,
            "ticks": "",
            "zerolinecolor": "white"
           },
           "yaxis": {
            "backgroundcolor": "#E5ECF6",
            "gridcolor": "white",
            "gridwidth": 2,
            "linecolor": "white",
            "showbackground": true,
            "ticks": "",
            "zerolinecolor": "white"
           },
           "zaxis": {
            "backgroundcolor": "#E5ECF6",
            "gridcolor": "white",
            "gridwidth": 2,
            "linecolor": "white",
            "showbackground": true,
            "ticks": "",
            "zerolinecolor": "white"
           }
          },
          "shapedefaults": {
           "line": {
            "color": "#2a3f5f"
           }
          },
          "ternary": {
           "aaxis": {
            "gridcolor": "white",
            "linecolor": "white",
            "ticks": ""
           },
           "baxis": {
            "gridcolor": "white",
            "linecolor": "white",
            "ticks": ""
           },
           "bgcolor": "#E5ECF6",
           "caxis": {
            "gridcolor": "white",
            "linecolor": "white",
            "ticks": ""
           }
          },
          "title": {
           "x": 0.05
          },
          "xaxis": {
           "automargin": true,
           "gridcolor": "white",
           "linecolor": "white",
           "ticks": "",
           "title": {
            "standoff": 15
           },
           "zerolinecolor": "white",
           "zerolinewidth": 2
          },
          "yaxis": {
           "automargin": true,
           "gridcolor": "white",
           "linecolor": "white",
           "ticks": "",
           "title": {
            "standoff": 15
           },
           "zerolinecolor": "white",
           "zerolinewidth": 2
          }
         }
        },
        "xaxis": {
         "anchor": "y",
         "domain": [
          0,
          1
         ],
         "title": {
          "text": "cluster"
         }
        },
        "yaxis": {
         "anchor": "x",
         "domain": [
          0,
          1
         ],
         "title": {
          "text": "mean"
         }
        }
       }
      }
     },
     "metadata": {},
     "output_type": "display_data"
    }
   ],
   "source": [
    "fig = px.line(mean_cluster_df, x='cluster', y='mean')\n",
    "fig.show()"
   ]
  },
  {
   "cell_type": "code",
   "execution_count": 8,
   "id": "be5b9d81",
   "metadata": {},
   "outputs": [
    {
     "data": {
      "text/html": [
       "<div>\n",
       "<style scoped>\n",
       "    .dataframe tbody tr th:only-of-type {\n",
       "        vertical-align: middle;\n",
       "    }\n",
       "\n",
       "    .dataframe tbody tr th {\n",
       "        vertical-align: top;\n",
       "    }\n",
       "\n",
       "    .dataframe thead th {\n",
       "        text-align: right;\n",
       "    }\n",
       "</style>\n",
       "<table border=\"1\" class=\"dataframe\">\n",
       "  <thead>\n",
       "    <tr style=\"text-align: right;\">\n",
       "      <th></th>\n",
       "      <th>cluster</th>\n",
       "      <th>sum</th>\n",
       "    </tr>\n",
       "  </thead>\n",
       "  <tbody>\n",
       "    <tr>\n",
       "      <th>0</th>\n",
       "      <td>3</td>\n",
       "      <td>4840.55</td>\n",
       "    </tr>\n",
       "    <tr>\n",
       "      <th>1</th>\n",
       "      <td>6</td>\n",
       "      <td>9742.66</td>\n",
       "    </tr>\n",
       "    <tr>\n",
       "      <th>2</th>\n",
       "      <td>9</td>\n",
       "      <td>14463.15</td>\n",
       "    </tr>\n",
       "    <tr>\n",
       "      <th>3</th>\n",
       "      <td>12</td>\n",
       "      <td>19419.91</td>\n",
       "    </tr>\n",
       "    <tr>\n",
       "      <th>4</th>\n",
       "      <td>15</td>\n",
       "      <td>24248.52</td>\n",
       "    </tr>\n",
       "  </tbody>\n",
       "</table>\n",
       "</div>"
      ],
      "text/plain": [
       "   cluster      sum\n",
       "0        3  4840.55\n",
       "1        6  9742.66\n",
       "2        9 14463.15\n",
       "3       12 19419.91\n",
       "4       15 24248.52"
      ]
     },
     "execution_count": 8,
     "metadata": {},
     "output_type": "execute_result"
    }
   ],
   "source": [
    "sum_cluster_df = pd.DataFrame(list(sum_duration.items()), columns=['cluster', 'sum'])\n",
    "sum_cluster_df.head()"
   ]
  },
  {
   "cell_type": "markdown",
   "id": "39149e54",
   "metadata": {},
   "source": [
    "### Bar Plot"
   ]
  },
  {
   "cell_type": "code",
   "execution_count": 9,
   "id": "e1569d4e",
   "metadata": {},
   "outputs": [],
   "source": [
    "# fig = px.bar(sum_cluster_df, x='cluster', y='sum')\n",
    "# fig.show()"
   ]
  },
  {
   "cell_type": "markdown",
   "id": "92176d4a",
   "metadata": {},
   "source": [
    "### Line Chart"
   ]
  },
  {
   "cell_type": "code",
   "execution_count": 10,
   "id": "7a24689b",
   "metadata": {},
   "outputs": [],
   "source": [
    "# fig = px.bar(sum_cluster_df, x='cluster', y='sum')\n",
    "# fig.show()"
   ]
  }
 ],
 "metadata": {
  "kernelspec": {
   "display_name": "Python 3",
   "language": "python",
   "name": "python3"
  },
  "language_info": {
   "codemirror_mode": {
    "name": "ipython",
    "version": 3
   },
   "file_extension": ".py",
   "mimetype": "text/x-python",
   "name": "python",
   "nbconvert_exporter": "python",
   "pygments_lexer": "ipython3",
   "version": "3.9.7"
  },
  "vscode": {
   "interpreter": {
    "hash": "11280ea7be6627b9f328a08dab38e8c63e7dc1298d1e70e34a2ae1a2a50a6cda"
   }
  }
 },
 "nbformat": 4,
 "nbformat_minor": 5
}
