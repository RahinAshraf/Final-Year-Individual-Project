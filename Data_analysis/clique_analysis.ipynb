{
 "cells": [
  {
   "cell_type": "code",
   "execution_count": null,
   "id": "869760d3",
   "metadata": {},
   "outputs": [],
   "source": [
    "import pandas as pd\n",
    "from geopy.extra.rate_limiter import RateLimiter\n",
    "from geopy.geocoders import Nominatim\n",
    "import requests\n",
    "import plotly.express as px\n",
    "from sklearn.cluster import KMeans\n",
    "import numpy as np\n",
    "import matplotlib.pyplot as plt\n",
    "import plotly.graph_objects as go\n",
    "import networkx as nx\n",
    "from collections import Counter\n",
    "from scipy.stats import pearsonr\n",
    "pd.set_option('display.max_columns',None)\n",
    "pd.set_option('display.float_format', lambda x: f'%.{2}f' % x)\n",
    "pd.set_option('display.max_colwidth', None)"
   ]
  },
  {
   "cell_type": "code",
   "execution_count": null,
   "id": "fdb64cfc",
   "metadata": {},
   "outputs": [],
   "source": [
    "df = pd.read_csv('../8Jul2020-14Jul2020.csv')\n",
    "df['Date'] = pd.to_datetime(df['Start Date'], dayfirst=True)\n",
    "df.sort_values(by='Date', inplace=True)\n",
    "df['Date'] = df['Date'].dt.date\n",
    "df.head()"
   ]
  },
  {
   "cell_type": "code",
   "execution_count": null,
   "id": "9b1621c8",
   "metadata": {},
   "outputs": [],
   "source": [
    "temp = df.groupby(['Date', 'StartStation Name', 'EndStation Name', 'StartStation lat', 'StartStation long',\n",
    "                  'EndStation lat', 'EndStation long'])['Duration'].agg(['mean'])\n",
    "temp.reset_index(drop=False, inplace=True)\n",
    "temp.head()"
   ]
  },
  {
   "cell_type": "code",
   "execution_count": null,
   "id": "b4055ad9",
   "metadata": {},
   "outputs": [],
   "source": [
    "sorted(temp['EndStation Name'].unique()) == sorted(temp['StartStation Name'].unique())"
   ]
  },
  {
   "cell_type": "code",
   "execution_count": null,
   "id": "11bf153b",
   "metadata": {},
   "outputs": [],
   "source": [
    "N = 20000 #I use the first 20000 entries of thw TFL bike data as the computations take too long otherwise.\n",
    "#Chapter 4.3.2 of the report discusses how I use node and edge filterign on to see how my approach mitigates this drawback \n",
    "\n",
    "temp3 = temp['StartStation Name'].values[:N]\n",
    "temp4 = temp[['StartStation lat', 'StartStation long']].apply(tuple, axis=1).values[:N]\n",
    "\n",
    "temp5 = temp['EndStation Name'].values[:N]\n",
    "temp6 = temp[['EndStation lat', 'EndStation long']].apply(tuple, axis=1).values[:N]\n",
    "\n",
    "pos1 = {A: B for A, B in zip(temp3, temp4)}\n",
    "pos2 = {A: B for A, B in zip(temp5, temp6)}\n",
    "pos = {**pos1, **pos2}"
   ]
  },
  {
   "cell_type": "code",
   "execution_count": null,
   "id": "b6865d71",
   "metadata": {},
   "outputs": [],
   "source": [
    "temp3 = temp['StartStation Name'].values\n",
    "temp4 = temp[['StartStation lat', 'StartStation long']].apply(tuple, axis=1).values\n",
    "\n",
    "pos = {A: B for A, B in zip(temp3, temp4)}"
   ]
  },
  {
   "cell_type": "code",
   "execution_count": null,
   "id": "5ec46a57",
   "metadata": {},
   "outputs": [],
   "source": [
    "X = np.array(temp[['StartStation Name', 'EndStation Name']])[:N]\n",
    "y = np.array(temp['mean'])[:N]\n",
    "\n",
    "temp1 = temp[['StartStation Name', 'EndStation Name']].apply(tuple, axis=1).values[:N]\n",
    "temp2 = temp['mean'].values[:N]\n",
    "\n",
    "edge_labels = {A: B for A, B in zip(temp1, temp2)}"
   ]
  },
  {
   "cell_type": "code",
   "execution_count": null,
   "id": "d86e3182",
   "metadata": {},
   "outputs": [],
   "source": [
    "G = nx.Graph()\n",
    "G.add_edges_from(X)\n",
    "plt.figure(figsize =(35, 40))\n",
    "nx.draw_networkx(G, pos = pos, node_color ='green')\n",
    "nx.draw_networkx_edge_labels(G, pos = pos,\n",
    "                             edge_labels=edge_labels,\n",
    "                             font_color='red')\n",
    "\n",
    "\n",
    "plt.title(\"Bike Routes\")\n",
    "plt.show()"
   ]
  },
  {
   "cell_type": "code",
   "execution_count": null,
   "id": "5f7b915b",
   "metadata": {},
   "outputs": [],
   "source": [
    "temp1 = df.groupby(['StartStation Name'])[['Duration']].count()\n",
    "temp1.rename(columns = {'Duration':'Count'}, inplace = True)\n",
    "temp1.reset_index(drop=False, inplace=True)\n",
    "temp1.head()"
   ]
  },
  {
   "cell_type": "code",
   "execution_count": null,
   "id": "63ce4b6d",
   "metadata": {},
   "outputs": [],
   "source": [
    "test = []\n",
    "cliques = nx.find_cliques(G)\n",
    "for clique in cliques:\n",
    "    test += clique\n",
    "\n",
    "clique_dict = Counter(test)\n",
    "\n",
    "temp2 = pd.DataFrame.from_dict(clique_dict, orient='index').reset_index()\n",
    "temp2.rename(columns = {'index':'StartStation Name', 0: 'Clique'}, inplace = True)\n",
    "temp2.head()"
   ]
  },
  {
   "cell_type": "code",
   "execution_count": null,
   "id": "6c30ec37",
   "metadata": {},
   "outputs": [],
   "source": [
    "final_df = pd.merge(temp1, temp2, how=\"left\")\n",
    "final_df.head()"
   ]
  },
  {
   "cell_type": "code",
   "execution_count": null,
   "id": "f0d06516",
   "metadata": {},
   "outputs": [],
   "source": [
    "first_20_df = final_df.head(90)\n",
    "count = first_20_df[\"Count\"]\n",
    "clique = first_20_df[\"Clique\"]\n",
    "\n",
    "corr, p = pearsonr(count, clique)\n",
    "print(\"Correlation coefficient: \", corr)"
   ]
  },
  {
   "cell_type": "code",
   "execution_count": null,
   "id": "03204c88",
   "metadata": {},
   "outputs": [],
   "source": [
    "fig = px.scatter(first_20_df, x=\"StartStation Name\", y=[\"Count\", \"Clique\"], \n",
    "              labels={'Counts':'Counts', 'Clique':'Clique'}, height=500)\n",
    "\n",
    "mean = first_20_df['Count'].mean()\n",
    "std = first_20_df['Count'].std()\n",
    "outliers = first_20_df[(np.abs(first_20_df['Count'] - mean) > 3*std)]\n",
    "fig.add_trace(go.Scatter(x=outliers['StartStation Name'], y=outliers['Count'],mode='markers', name='Outliers', marker=dict(color=\"red\")))\n",
    "fig.update_layout(xaxis=dict(tickvals=[]), height=400)\n",
    "fig.show()"
   ]
  }
 ],
 "metadata": {
  "kernelspec": {
   "display_name": "Python 3 (ipykernel)",
   "language": "python",
   "name": "python3"
  },
  "language_info": {
   "codemirror_mode": {
    "name": "ipython",
    "version": 3
   },
   "file_extension": ".py",
   "mimetype": "text/x-python",
   "name": "python",
   "nbconvert_exporter": "python",
   "pygments_lexer": "ipython3",
   "version": "3.9.7"
  },
  "vscode": {
   "interpreter": {
    "hash": "11280ea7be6627b9f328a08dab38e8c63e7dc1298d1e70e34a2ae1a2a50a6cda"
   }
  }
 },
 "nbformat": 4,
 "nbformat_minor": 5
}
