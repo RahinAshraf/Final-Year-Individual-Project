{
 "cells": [
  {
   "cell_type": "code",
   "execution_count": null,
   "metadata": {},
   "outputs": [],
   "source": [
    "import pandas as pd\n",
    "from geopy.extra.rate_limiter import RateLimiter\n",
    "from geopy.geocoders import Nominatim\n",
    "import requests\n",
    "import plotly.express as px\n",
    "pd.set_option('display.max_columns',None)\n",
    "pd.set_option('display.float_format', lambda x: f'%.{2}f' % x)\n",
    "pd.set_option('display.max_colwidth', None)"
   ]
  },
  {
   "cell_type": "code",
   "execution_count": null,
   "metadata": {
    "pycharm": {
     "name": "#%%\n"
    }
   },
   "outputs": [],
   "source": [
    "url = \"https://tfl.gov.uk/tfl/syndication/feeds/cycle-hire/livecyclehireupdates.xml\"\n",
    "response = requests.get(url)\n",
    "data = response.content"
   ]
  },
  {
   "cell_type": "code",
   "execution_count": null,
   "metadata": {
    "pycharm": {
     "name": "#%%\n"
    }
   },
   "outputs": [],
   "source": [
    "df1 = pd.read_xml(data)\n",
    "df1.drop(['id', 'terminalName', 'installed', 'locked',\n",
    "          'installDate', 'removalDate', 'temporary'], axis=1, inplace=True)\n",
    "df1.head()"
   ]
  },
  {
   "cell_type": "code",
   "execution_count": null,
   "metadata": {
    "pycharm": {
     "name": "#%%\n"
    }
   },
   "outputs": [],
   "source": [
    "df2 = pd.read_csv('../8Jul2020-14Jul20201.csv')\n",
    "df2.head()"
   ]
  },
  {
   "cell_type": "code",
   "execution_count": null,
   "metadata": {
    "pycharm": {
     "name": "#%%\n"
    }
   },
   "outputs": [],
   "source": [
    "df = df2.merge(df1, left_on='EndStation Name', right_on='name')\n",
    "df.drop(['name'], inplace=True, axis=1)\n",
    "df.columns.values[9:] = 'EndStation ' + df.columns.values[9:]\n",
    "\n",
    "\n",
    "df = df.merge(df1, left_on='StartStation Name', right_on='name')\n",
    "df.drop(['name'], inplace=True, axis=1)\n",
    "df.columns.values[16:] = 'StartStation ' + df.columns.values[16:]\n",
    "\n",
    "df.set_index(['Rental Id'], inplace=True)\n",
    "df.head()"
   ]
  },
  {
   "cell_type": "code",
   "execution_count": null,
   "metadata": {},
   "outputs": [],
   "source": [
    "df.to_csv(\"8Jul2020-14Jul20201-withXML.csv\")"
   ]
  }
 ],
 "metadata": {
  "kernelspec": {
   "display_name": "Python 3 (ipykernel)",
   "language": "python",
   "name": "python3"
  },
  "language_info": {
   "codemirror_mode": {
    "name": "ipython",
    "version": 3
   },
   "file_extension": ".py",
   "mimetype": "text/x-python",
   "name": "python",
   "nbconvert_exporter": "python",
   "pygments_lexer": "ipython3",
   "version": "3.9.7"
  },
  "vscode": {
   "interpreter": {
    "hash": "11280ea7be6627b9f328a08dab38e8c63e7dc1298d1e70e34a2ae1a2a50a6cda"
   }
  }
 },
 "nbformat": 4,
 "nbformat_minor": 1
}
