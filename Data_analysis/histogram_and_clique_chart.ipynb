{
 "cells": [
  {
   "cell_type": "code",
   "execution_count": null,
   "id": "869760d3",
   "metadata": {},
   "outputs": [],
   "source": [
    "import pandas as pd\n",
    "from geopy.extra.rate_limiter import RateLimiter\n",
    "from geopy.geocoders import Nominatim\n",
    "import requests\n",
    "import plotly.express as px\n",
    "from sklearn.cluster import KMeans\n",
    "import numpy as np\n",
    "import matplotlib.pyplot as plt\n",
    "import plotly.graph_objects as go\n",
    "import networkx as nx\n",
    "from collections import Counter\n",
    "pd.set_option('display.max_columns',None)\n",
    "pd.set_option('display.float_format', lambda x: f'%.{2}f' % x)\n",
    "pd.set_option('display.max_colwidth', None)"
   ]
  },
  {
   "cell_type": "code",
   "execution_count": null,
   "id": "fdb64cfc",
   "metadata": {},
   "outputs": [],
   "source": [
    "df = pd.read_csv('../8Jul2020-14Jul2020.csv')\n",
    "df['Date'] = pd.to_datetime(df['Start Date'], dayfirst=True)\n",
    "df.sort_values(by='Date', inplace=True)\n",
    "df['Date'] = df['Date'].dt.date\n",
    "df[df['Duration'] >= 10000] = np.NaN\n",
    "df = df.dropna()\n",
    "df.head()"
   ]
  },
  {
   "cell_type": "code",
   "execution_count": null,
   "id": "9b1621c8",
   "metadata": {},
   "outputs": [],
   "source": [
    "temp = df.groupby(['Date', 'StartStation Name', 'EndStation Name', 'StartStation lat', 'StartStation long',\n",
    "                  'EndStation lat', 'EndStation long'])['Duration'].agg(['mean'])\n",
    "temp.reset_index(drop=False, inplace=True)\n",
    "temp.head()"
   ]
  },
  {
   "cell_type": "code",
   "execution_count": null,
   "id": "b4055ad9",
   "metadata": {},
   "outputs": [],
   "source": [
    "sorted(temp['EndStation Name'].unique()) == sorted(temp['StartStation Name'].unique())"
   ]
  },
  {
   "cell_type": "code",
   "execution_count": null,
   "id": "11bf153b",
   "metadata": {},
   "outputs": [],
   "source": [
    "N = 20000 #I use the first 20000 entries of thw TFL bike data as the clique computations take too long otherwise.\n",
    "#Chapter 4.3.2 of the report discusses how I use node and edge filterign on to see how my approach mitigates this drawback \n",
    "\n",
    "temp3 = temp['StartStation Name'].values[:N]\n",
    "temp4 = temp[['StartStation lat', 'StartStation long']].apply(tuple, axis=1).values[:N]\n",
    "\n",
    "temp5 = temp['EndStation Name'].values[:N]\n",
    "temp6 = temp[['EndStation lat', 'EndStation long']].apply(tuple, axis=1).values[:N]\n",
    "\n",
    "pos1 = {A: B for A, B in zip(temp3, temp4)}\n",
    "pos2 = {A: B for A, B in zip(temp5, temp6)}\n",
    "pos = {**pos1, **pos2}"
   ]
  },
  {
   "cell_type": "code",
   "execution_count": null,
   "id": "b6865d71",
   "metadata": {},
   "outputs": [],
   "source": [
    "temp3 = temp['StartStation Name'].values\n",
    "temp4 = temp[['StartStation lat', 'StartStation long']].apply(tuple, axis=1).values\n",
    "\n",
    "pos = {A: B for A, B in zip(temp3, temp4)}"
   ]
  },
  {
   "cell_type": "code",
   "execution_count": null,
   "id": "5ec46a57",
   "metadata": {},
   "outputs": [],
   "source": [
    "X = np.array(temp[['StartStation Name', 'EndStation Name']])[:N]\n",
    "y = np.array(temp['mean'])[:N]\n",
    "\n",
    "temp1 = temp[['StartStation Name', 'EndStation Name']].apply(tuple, axis=1).values[:N]\n",
    "temp2 = temp['mean'].values[:N]\n",
    "\n",
    "edge_labels = {A: B for A, B in zip(temp1, temp2)}"
   ]
  },
  {
   "cell_type": "code",
   "execution_count": null,
   "id": "36ecaab4",
   "metadata": {},
   "outputs": [],
   "source": [
    "G = nx.Graph()\n",
    "G.add_edges_from(X)"
   ]
  },
  {
   "cell_type": "code",
   "execution_count": null,
   "id": "76c55a36",
   "metadata": {},
   "outputs": [],
   "source": [
    "temp1 = df.groupby(['StartStation Name','Date'])[['Duration']].count()\n",
    "temp1.rename(columns = {'Duration':'StartStation Count'}, inplace = True)\n",
    "\n",
    "temp2 = df.groupby(['EndStation Name','Date'])[['Duration']].count()\n",
    "temp2.rename(columns = {'Duration':'EndStation Count'}, inplace = True)"
   ]
  },
  {
   "cell_type": "code",
   "execution_count": null,
   "id": "dabb228c",
   "metadata": {},
   "outputs": [],
   "source": [
    "temp = pd.concat([temp1,temp2], axis=1, join='inner')\n",
    "temp.reset_index(drop=False, inplace=True)\n",
    "temp.rename(columns = {'level_0':'Station'}, inplace = True)\n",
    "temp.head()"
   ]
  },
  {
   "cell_type": "code",
   "execution_count": null,
   "id": "b63dd00b",
   "metadata": {},
   "outputs": [],
   "source": [
    "fig = px.histogram(df, x=\"Duration\")\n",
    "fig.show()"
   ]
  },
  {
   "cell_type": "code",
   "execution_count": null,
   "id": "53a6a5d2",
   "metadata": {},
   "outputs": [],
   "source": [
    "cliques = list(nx.find_cliques(G))\n",
    "station_counts = Counter([station for clique in cliques for station in clique]) # Count the number of times each station appears in the cliques\n",
    "stations, counts = zip(*station_counts.items()) # Get the names of the stations and their counts\n",
    "fig, ax = plt.subplots()\n",
    "ax.plot(stations, counts)\n",
    "ax.set_xlabel(\"Bike stations\")\n",
    "ax.set_ylabel(\"Clique count\")\n",
    "plt.gca().set_xticklabels([])\n",
    "plt.bar(stations, counts)\n",
    "plt.show()"
   ]
  }
 ],
 "metadata": {
  "kernelspec": {
   "display_name": "Python 3 (ipykernel)",
   "language": "python",
   "name": "python3"
  },
  "language_info": {
   "codemirror_mode": {
    "name": "ipython",
    "version": 3
   },
   "file_extension": ".py",
   "mimetype": "text/x-python",
   "name": "python",
   "nbconvert_exporter": "python",
   "pygments_lexer": "ipython3",
   "version": "3.9.7"
  },
  "vscode": {
   "interpreter": {
    "hash": "11280ea7be6627b9f328a08dab38e8c63e7dc1298d1e70e34a2ae1a2a50a6cda"
   }
  }
 },
 "nbformat": 4,
 "nbformat_minor": 5
}
