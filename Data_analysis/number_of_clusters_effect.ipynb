{
 "cells": [
  {
   "cell_type": "code",
   "execution_count": null,
   "id": "869760d3",
   "metadata": {},
   "outputs": [],
   "source": [
    "import pandas as pd\n",
    "from geopy.extra.rate_limiter import RateLimiter\n",
    "from geopy.geocoders import Nominatim\n",
    "import requests\n",
    "import plotly.express as px\n",
    "from sklearn.cluster import KMeans\n",
    "import numpy as np\n",
    "import matplotlib.pyplot as plt\n",
    "import plotly.graph_objects as go\n",
    "import networkx as nx\n",
    "from statistics import mean\n",
    "pd.set_option('display.max_columns',None)\n",
    "pd.set_option('display.float_format', lambda x: f'%.{2}f' % x)\n",
    "pd.set_option('display.max_colwidth', None)\n",
    "import warnings\n",
    "warnings.filterwarnings('ignore')"
   ]
  },
  {
   "cell_type": "code",
   "execution_count": null,
   "id": "fdb64cfc",
   "metadata": {},
   "outputs": [],
   "source": [
    "df = pd.read_csv('../8Jul2020-14Jul2020.csv')\n",
    "df['Date'] = pd.to_datetime(df['Start Date'], dayfirst=True)\n",
    "df.sort_values(by='Date', inplace=True)\n",
    "df['Date'] = df['Date'].dt.date\n",
    "\n",
    "cluster = df[['StartStation Name', 'StartStation lat', 'StartStation long']]\n",
    "cluster.drop_duplicates(keep='first', inplace=True)\n",
    "cluster.head()"
   ]
  },
  {
   "cell_type": "code",
   "execution_count": null,
   "id": "6c2b5d4a",
   "metadata": {},
   "outputs": [],
   "source": [
    "X = cluster[['StartStation lat', 'StartStation long']].values\n",
    "n_clusters_ = 3\n",
    "kmeans = KMeans(n_clusters = n_clusters_, init ='k-means++')\n",
    "kmeans.fit(X) # Compute k-means clustering.\n",
    "labels = kmeans.fit_predict(X)\n",
    "centers = kmeans.cluster_centers_ # Coordinates of cluster centers.\n",
    "cluster['clusters'] = labels\n",
    "cluster.index = cluster['StartStation Name']\n",
    "cluster_map = cluster['clusters'].to_dict()\n",
    "df['cluster'] = df['StartStation Name'].map(cluster_map)\n",
    "df.head()"
   ]
  },
  {
   "cell_type": "code",
   "execution_count": null,
   "id": "feb6df68",
   "metadata": {
    "scrolled": true
   },
   "outputs": [],
   "source": [
    "#Inspired by: https://github.com/noernimat/k-means_clustering_model.git\n",
    "#This creates 750 clusters - hence takes some time to execute this \n",
    "\n",
    "sum_duration = {}\n",
    "mean_duration = {}\n",
    "\n",
    "for n in range(3,750,3):\n",
    "    print(n)\n",
    "    n_clusters_ = n\n",
    "    kmeans = KMeans(n_clusters = n_clusters_, init ='k-means++')\n",
    "    kmeans.fit(X) # Compute k-means clustering.\n",
    "    labels = kmeans.fit_predict(X)\n",
    "    centers = kmeans.cluster_centers_ # Coordinates of cluster centers.\n",
    "    cluster['clusters'] = labels\n",
    "    cluster.index = cluster['StartStation Name']\n",
    "    cluster_map = cluster['clusters'].to_dict()\n",
    "    df['cluster'] = df['StartStation Name'].map(cluster_map)\n",
    "    mean_cluster = df.groupby(['cluster'])['Duration'].mean().values\n",
    "    flag = sum(mean_cluster)\n",
    "    sum_duration[n] = flag\n",
    "    flag = mean(mean_cluster)\n",
    "    mean_duration[n] = flag    "
   ]
  },
  {
   "cell_type": "code",
   "execution_count": null,
   "id": "c1ea95eb",
   "metadata": {},
   "outputs": [],
   "source": [
    "mean_cluster_df = pd.DataFrame(list(mean_duration.items()), columns=['cluster', 'mean'])\n",
    "mean_cluster_df.head()"
   ]
  },
  {
   "cell_type": "code",
   "execution_count": null,
   "id": "532433b2",
   "metadata": {},
   "outputs": [],
   "source": [
    "fig = px.line(mean_cluster_df, x='cluster', y='mean')\n",
    "fig.update_layout(xaxis_title='Number of clusters', yaxis_title='Average duration for bike repositioning')\n",
    "fig.show()"
   ]
  }
 ],
 "metadata": {
  "kernelspec": {
   "display_name": "Python 3 (ipykernel)",
   "language": "python",
   "name": "python3"
  },
  "language_info": {
   "codemirror_mode": {
    "name": "ipython",
    "version": 3
   },
   "file_extension": ".py",
   "mimetype": "text/x-python",
   "name": "python",
   "nbconvert_exporter": "python",
   "pygments_lexer": "ipython3",
   "version": "3.9.7"
  }
 },
 "nbformat": 4,
 "nbformat_minor": 5
}
